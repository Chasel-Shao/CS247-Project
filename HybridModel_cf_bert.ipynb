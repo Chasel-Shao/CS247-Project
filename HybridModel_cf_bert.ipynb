{
  "cells": [
    {
      "cell_type": "markdown",
      "id": "8894cf9b-675f-4889-b850-4fc3bedd3373",
      "metadata": {
        "tags": [],
        "id": "8894cf9b-675f-4889-b850-4fc3bedd3373"
      },
      "source": [
        "# BERT4Rec-based recommendation system"
      ]
    },
    {
      "cell_type": "code",
      "execution_count": 1,
      "id": "b3df273d-8360-4a05-9e81-ac0f39e882dc",
      "metadata": {
        "tags": [],
        "colab": {
          "base_uri": "https://localhost:8080/"
        },
        "id": "b3df273d-8360-4a05-9e81-ac0f39e882dc",
        "outputId": "1aa3b3b2-e776-49b8-ed4a-595aa17d823f"
      },
      "outputs": [
        {
          "output_type": "stream",
          "name": "stdout",
          "text": [
            "Using device: cuda\n"
          ]
        }
      ],
      "source": [
        "import torch\n",
        "import torch.nn as nn\n",
        "import torch.optim as optim\n",
        "from transformers import BertModel, BertConfig\n",
        "from torch.utils.data import Dataset, DataLoader\n",
        "import pandas as pd\n",
        "import numpy as np\n",
        "from sklearn.model_selection import train_test_split\n",
        "\n",
        "# Ensure compatibility with Jupyter Notebook\n",
        "%matplotlib inline\n",
        "\n",
        "# Check if CUDA is available\n",
        "device = torch.device(\"cuda\" if torch.cuda.is_available() else \"cpu\")\n",
        "print(f\"Using device: {device}\")"
      ]
    },
    {
      "cell_type": "code",
      "execution_count": 2,
      "id": "28d2aeec-b5e2-4a87-9234-e8d8ba3a3e40",
      "metadata": {
        "tags": [],
        "colab": {
          "base_uri": "https://localhost:8080/"
        },
        "id": "28d2aeec-b5e2-4a87-9234-e8d8ba3a3e40",
        "outputId": "a0dde075-5732-46da-c53b-a3a4a8f4c206"
      },
      "outputs": [
        {
          "output_type": "stream",
          "name": "stdout",
          "text": [
            "Drive already mounted at /content/drive; to attempt to forcibly remount, call drive.mount(\"/content/drive\", force_remount=True).\n"
          ]
        }
      ],
      "source": [
        "import os\n",
        "from google.colab import drive\n",
        "drive.mount('/content/drive')\n",
        "folder_path='/content/drive/MyDrive/CS247/Final Project'\n",
        "os.chdir(folder_path)\n",
        "# Function to load the MovieLens dataset\n"
      ]
    },
    {
      "cell_type": "markdown",
      "source": [
        "## Data Processing\n"
      ],
      "metadata": {
        "id": "1lLkm3UfKvYO"
      },
      "id": "1lLkm3UfKvYO"
    },
    {
      "cell_type": "code",
      "source": [
        "def load_data_bert(filepath=\"ml-1m/ratings.dat\"):\n",
        "    df = pd.read_csv(filepath, sep=\"::\", engine=\"python\",\n",
        "                     names=[\"userId\", \"movieId\", \"rating\", \"timestamp\"])\n",
        "    df = df.sort_values(by=[\"userId\", \"timestamp\"])  # Sort by user and timestamp\n",
        "    user_movie_dict = df.groupby(\"userId\")[\"movieId\"].apply(list).to_dict()\n",
        "    return user_movie_dict\n",
        "\n",
        "def load_data_cf(filepath=\"ml-1m/ratings.dat\"):\n",
        "    df = pd.read_csv(filepath, sep=\"::\", engine=\"python\",\n",
        "                     names=[\"userId\", \"movieId\", \"rating\", \"timestamp\"])\n",
        "    df = df.drop(columns=[\"timestamp\"])  # Remove timestamp for CF\n",
        "    return df\n",
        "\n",
        "\n",
        "# Load dataset -CF\n",
        "ratings_df = load_data_cf()\n",
        "user_ids = {user: idx for idx, user in enumerate(ratings_df[\"userId\"].unique())}\n",
        "movie_ids = {movie: idx for idx, movie in enumerate(ratings_df[\"movieId\"].unique())}\n",
        "\n",
        "\n",
        "# Load dataset - BERT\n",
        "user_movie_dict = load_data_bert()\n",
        "\n",
        "# Apply the same user/movie mapping to BERT4Rec data vs CF\n",
        "\n",
        "user_movie_dict = {\n",
        "    user_ids[user]: [movie_ids[m] for m in movies if m in movie_ids]  # Ensure movies exist in mapping\n",
        "    for user, movies in user_movie_dict.items() if user in user_ids  # Ensure users exist in mapping\n",
        "}\n",
        "\n",
        "print(f\"Loaded {len(user_movie_dict)} users' movie interaction sequences\")\n",
        "\n",
        "# Print a sample of user-movie interactions for debugging\n",
        "for user, movies in list(user_movie_dict.items())[:3]:\n",
        "    print(f\"User {user}: {movies}\")\n",
        "\n",
        "# Function to split user interactions into train and test sets\n",
        "def split_train_test(user_movie_dict, test_ratio=0.2, min_interactions=5):\n",
        "    train_dict, test_dict = {}, {}\n",
        "\n",
        "    for user, movies in user_movie_dict.items():\n",
        "        if len(movies) >= min_interactions:  # Only split users with enough data\n",
        "            split_idx = int(len(movies) * (1 - test_ratio))\n",
        "            train_dict[user] = movies[:split_idx]\n",
        "            test_dict[user] = movies[split_idx:]\n",
        "        else:\n",
        "            train_dict[user] = movies  # Assign all to train if only a few interactions\n",
        "\n",
        "    return train_dict, test_dict\n",
        "\n",
        "# Apply train-test split with filtering\n",
        "train_dict, test_dict = split_train_test(user_movie_dict, test_ratio=0.2, min_interactions=5)\n",
        "# Define Dataset for Training\n",
        "class MovieDataset(Dataset):\n",
        "    def __init__(self, user_movie_dict, max_len=50):\n",
        "        self.users = list(user_movie_dict.keys())\n",
        "        self.sequences = [user_movie_dict[user] for user in self.users]\n",
        "        self.max_len = max_len\n",
        "\n",
        "    def __len__(self):\n",
        "        return len(self.users)\n",
        "\n",
        "    def __getitem__(self, idx):\n",
        "        sequence = self.sequences[idx]\n",
        "        input_ids = sequence[:self.max_len] + [0] * (self.max_len - len(sequence))  # Padding\n",
        "        target_ids = input_ids[1:] + [0]  # Next-movie prediction\n",
        "        attention_mask = [1 if id != 0 else 0 for id in input_ids]  # Attention mask\n",
        "        return torch.tensor(input_ids), torch.tensor(target_ids), torch.tensor(attention_mask)\n",
        "\n",
        "# Create Train Dataset & DataLoader\n",
        "train_dataset = MovieDataset(train_dict, max_len=30)\n",
        "train_dataloader = DataLoader(train_dataset, batch_size=64, shuffle=True)\n",
        "\n",
        "# Create Test Dataset & DataLoader\n",
        "test_dataset = MovieDataset(test_dict, max_len=30)\n",
        "test_dataloader = DataLoader(test_dataset, batch_size=64, shuffle=False)\n",
        "\n",
        "# Train-test split (80% train, 20% test)\n",
        "train_data_cf, test_data_cf = train_test_split(ratings_df, test_size=0.2, random_state=42)\n",
        "print(f\"Train size: {len(train_data_cf)}, Test size: {len(test_data_cf)}\")\n",
        "\n",
        "# Encode users and movies into unique indices\n",
        "user_ids = {user: idx for idx, user in enumerate(ratings_df[\"userId\"].unique())}\n",
        "movie_ids = {movie: idx for idx, movie in enumerate(ratings_df[\"movieId\"].unique())}\n",
        "\n",
        "# Map users and movies to indices\n",
        "ratings_df[\"userId\"] = ratings_df[\"userId\"].map(user_ids)\n",
        "ratings_df[\"movieId\"] = ratings_df[\"movieId\"].map(movie_ids)\n",
        "\n",
        "print(f\"user id size: {len(user_ids)}; move id size {len(movie_ids)}\")\n",
        "# print(len(movie_ids))\n",
        "# Train-test split (80% train, 20% test)\n",
        "train_data_cf, test_data_cf = train_test_split(ratings_df, test_size=0.2, random_state=42)\n",
        "print(f\"Train size: {len(train_data_cf)}, Test size: {len(test_data_cf)}\")\n"
      ],
      "metadata": {
        "colab": {
          "base_uri": "https://localhost:8080/"
        },
        "id": "uQe8wZOLvJHO",
        "outputId": "fbd66fc8-d63d-4f8d-8bdb-9b93f73b739e"
      },
      "id": "uQe8wZOLvJHO",
      "execution_count": 3,
      "outputs": [
        {
          "output_type": "stream",
          "name": "stdout",
          "text": [
            "Loaded 6040 users' movie interaction sequences\n",
            "User 0: [31, 22, 27, 37, 24, 36, 3, 7, 47, 0, 21, 44, 9, 51, 43, 41, 48, 18, 11, 14, 42, 17, 39, 45, 26, 2, 6, 19, 38, 52, 1, 13, 49, 50, 15, 20, 46, 5, 8, 12, 28, 23, 10, 16, 29, 33, 40, 4, 30, 35, 32, 34, 25]\n",
            "User 1: [127, 64, 71, 131, 87, 165, 105, 0, 167, 70, 104, 67, 101, 47, 128, 159, 63, 103, 106, 147, 149, 76, 92, 115, 85, 174, 18, 53, 124, 143, 136, 153, 95, 111, 42, 96, 99, 135, 84, 139, 164, 162, 168, 61, 82, 158, 68, 100, 121, 54, 109, 108, 123, 77, 81, 170, 112, 140, 172, 80, 169, 102, 57, 59, 114, 89, 56, 141, 152, 142, 161, 52, 173, 55, 88, 134, 129, 20, 171, 75, 116, 138, 97, 48, 132, 151, 62, 78, 113, 144, 148, 156, 90, 110, 145, 150, 155, 120, 166, 93, 117, 58, 122, 65, 119, 125, 94, 157, 160, 69, 74, 83, 118, 146, 154, 107, 137, 60, 98, 91, 126, 163, 73, 79, 130, 66, 72, 86, 133]\n",
            "User 2: [128, 104, 178, 168, 181, 41, 194, 196, 197, 203, 123, 44, 124, 204, 5, 127, 201, 64, 186, 188, 189, 192, 113, 185, 187, 195, 166, 200, 205, 191, 193, 202, 58, 180, 206, 50, 175, 177, 184, 199, 190, 22, 183, 84, 116, 176, 4, 198, 179, 182, 207]\n",
            "Train size: 800167, Test size: 200042\n",
            "user id size: 6040; move id size 3706\n",
            "Train size: 800167, Test size: 200042\n"
          ]
        }
      ]
    },
    {
      "cell_type": "code",
      "execution_count": 4,
      "id": "a4ec826b-5b5d-4be2-a707-5566240946e0",
      "metadata": {
        "tags": [],
        "id": "a4ec826b-5b5d-4be2-a707-5566240946e0"
      },
      "outputs": [],
      "source": [
        "\n",
        "# Print updated user counts\n",
        "# print(f\"Train users: {len(train_dict)}, Test users: {len(test_dict)}\")"
      ]
    },
    {
      "cell_type": "code",
      "execution_count": 5,
      "id": "54c3ea7d-c557-48e2-bf1e-0eb321619cc2",
      "metadata": {
        "tags": [],
        "id": "54c3ea7d-c557-48e2-bf1e-0eb321619cc2"
      },
      "outputs": [],
      "source": [
        "\n",
        "\n",
        "# print(f\"Train Dataset: {len(train_dataset)}, Test Dataset: {len(test_dataset)}\")\n"
      ]
    },
    {
      "cell_type": "code",
      "source": [
        "#CF Data Processing\n",
        "#data alignment ---> make sure the user id and test / train dataset are the same\n",
        "import pandas as pd\n",
        "\n",
        "# Create train_data_cf using train_dict\n",
        "train_data_cf = []\n",
        "for user, movies in train_dict.items():\n",
        "    for movie in movies:\n",
        "        train_data_cf.append((user, movie))  # No ratings, just user-item interactions\n",
        "\n",
        "train_data_cf = pd.DataFrame(train_data_cf, columns=[\"userId\", \"movieId\"])\n",
        "\n",
        "# Create test_data_cf using test_dict\n",
        "test_data_cf = []\n",
        "for user, movies in test_dict.items():\n",
        "    for movie in movies:\n",
        "        test_data_cf.append((user, movie))\n",
        "\n",
        "test_data_cf = pd.DataFrame(test_data_cf, columns=[\"userId\", \"movieId\"])\n",
        "# Merge ratings into CF train and test sets\n",
        "train_data_cf = train_data_cf.merge(ratings_df, on=[\"userId\", \"movieId\"], how=\"left\")\n",
        "test_data_cf = test_data_cf.merge(ratings_df, on=[\"userId\", \"movieId\"], how=\"left\")\n",
        "\n",
        "# Drop any rows where ratings are missing\n",
        "train_data_cf = train_data_cf.dropna().astype({\"rating\": \"int\"})\n",
        "test_data_cf = test_data_cf.dropna().astype({\"rating\": \"int\"})\n",
        "\n",
        "print(train_data_cf.head())  # Verify the train dataset\n",
        "print(test_data_cf.head())   # Verify the test dataset\n",
        "\n",
        "#---------------------\n",
        "# verify index alignment\n",
        "#---------------------\n",
        "# Print first few users from BERT's train_dict\n",
        "print(\"First 5 Users in BERT Train Set:\")\n",
        "for user, movies in list(train_dict.items())[:5]:\n",
        "    print(f\"User {user}: {movies}\")\n",
        "\n",
        "# Print first few users from CF train set\n",
        "print(\"\\nFirst 5 Users in CF Train Set:\")\n",
        "for user in train_data_cf[\"userId\"].unique()[:5]:\n",
        "    user_movies = train_data_cf[train_data_cf[\"userId\"] == user][\"movieId\"].tolist()\n",
        "    print(f\"User {user}: {user_movies}\")\n"
      ],
      "metadata": {
        "colab": {
          "base_uri": "https://localhost:8080/"
        },
        "id": "vjbUEVR5YSeG",
        "outputId": "b38b8088-54cb-4010-b9d7-0ebf8df3aa80"
      },
      "id": "vjbUEVR5YSeG",
      "execution_count": 6,
      "outputs": [
        {
          "output_type": "stream",
          "name": "stdout",
          "text": [
            "   userId  movieId  rating\n",
            "0       0       31       4\n",
            "1       0       22       5\n",
            "2       0       27       4\n",
            "3       0       37       5\n",
            "4       0       24       3\n",
            "   userId  movieId  rating\n",
            "0       0       10       5\n",
            "1       0       16       3\n",
            "2       0       29       3\n",
            "3       0       33       4\n",
            "4       0       40       5\n",
            "First 5 Users in BERT Train Set:\n",
            "User 0: [31, 22, 27, 37, 24, 36, 3, 7, 47, 0, 21, 44, 9, 51, 43, 41, 48, 18, 11, 14, 42, 17, 39, 45, 26, 2, 6, 19, 38, 52, 1, 13, 49, 50, 15, 20, 46, 5, 8, 12, 28, 23]\n",
            "User 1: [127, 64, 71, 131, 87, 165, 105, 0, 167, 70, 104, 67, 101, 47, 128, 159, 63, 103, 106, 147, 149, 76, 92, 115, 85, 174, 18, 53, 124, 143, 136, 153, 95, 111, 42, 96, 99, 135, 84, 139, 164, 162, 168, 61, 82, 158, 68, 100, 121, 54, 109, 108, 123, 77, 81, 170, 112, 140, 172, 80, 169, 102, 57, 59, 114, 89, 56, 141, 152, 142, 161, 52, 173, 55, 88, 134, 129, 20, 171, 75, 116, 138, 97, 48, 132, 151, 62, 78, 113, 144, 148, 156, 90, 110, 145, 150, 155, 120, 166, 93, 117, 58, 122]\n",
            "User 2: [128, 104, 178, 168, 181, 41, 194, 196, 197, 203, 123, 44, 124, 204, 5, 127, 201, 64, 186, 188, 189, 192, 113, 185, 187, 195, 166, 200, 205, 191, 193, 202, 58, 180, 206, 50, 175, 177, 184, 199]\n",
            "User 3: [64, 26, 63, 113, 214, 44, 124, 127, 213, 48, 212, 215, 43, 216, 209, 156]\n",
            "User 4: [131, 321, 9, 236, 171, 104, 277, 368, 352, 360, 184, 231, 4, 372, 380, 278, 354, 363, 315, 327, 3, 268, 317, 340, 219, 273, 291, 341, 334, 345, 338, 287, 308, 294, 248, 311, 359, 250, 332, 43, 263, 350, 38, 243, 305, 307, 223, 279, 286, 218, 237, 68, 349, 270, 267, 293, 241, 234, 377, 246, 48, 257, 266, 244, 128, 167, 51, 67, 259, 306, 336, 227, 262, 132, 295, 384, 280, 230, 258, 271, 355, 253, 275, 298, 297, 339, 365, 381, 272, 276, 269, 309, 239, 220, 247, 282, 245, 283, 301, 383, 342, 281, 379, 299, 348, 318, 333, 156, 376, 221, 109, 367, 337, 364, 366, 374, 284, 285, 290, 316, 320, 229, 242, 346, 232, 256, 326, 362, 358, 224, 233, 351, 129, 335, 357, 225, 62, 78, 312, 328, 371, 369, 226, 323, 240, 343, 39, 195, 27, 324, 120, 313, 238, 252, 300, 382, 310, 361]\n",
            "\n",
            "First 5 Users in CF Train Set:\n",
            "User 0: [31, 22, 27, 37, 24, 36, 3, 7, 47, 0, 21, 44, 9, 51, 43, 41, 48, 18, 11, 14, 42, 17, 39, 45, 26, 2, 6, 19, 38, 52, 1, 13, 49, 50, 15, 20, 46, 5, 8, 12, 28, 23]\n",
            "User 1: [127, 64, 71, 131, 87, 165, 105, 0, 167, 70, 104, 67, 101, 47, 128, 159, 63, 103, 106, 147, 149, 76, 92, 115, 85, 174, 18, 53, 124, 143, 136, 153, 95, 111, 42, 96, 99, 135, 84, 139, 164, 162, 168, 61, 82, 158, 68, 100, 121, 54, 109, 108, 123, 77, 81, 170, 112, 140, 172, 80, 169, 102, 57, 59, 114, 89, 56, 141, 152, 142, 161, 52, 173, 55, 88, 134, 129, 20, 171, 75, 116, 138, 97, 48, 132, 151, 62, 78, 113, 144, 148, 156, 90, 110, 145, 150, 155, 120, 166, 93, 117, 58, 122]\n",
            "User 2: [128, 104, 178, 168, 181, 41, 194, 196, 197, 203, 123, 44, 124, 204, 5, 127, 201, 64, 186, 188, 189, 192, 113, 185, 187, 195, 166, 200, 205, 191, 193, 202, 58, 180, 206, 50, 175, 177, 184, 199]\n",
            "User 3: [64, 26, 63, 113, 214, 44, 124, 127, 213, 48, 212, 215, 43, 216, 209, 156]\n",
            "User 4: [131, 321, 9, 236, 171, 104, 277, 368, 352, 360, 184, 231, 4, 372, 380, 278, 354, 363, 315, 327, 3, 268, 317, 340, 219, 273, 291, 341, 334, 345, 338, 287, 308, 294, 248, 311, 359, 250, 332, 43, 263, 350, 38, 243, 305, 307, 223, 279, 286, 218, 237, 68, 349, 270, 267, 293, 241, 234, 377, 246, 48, 257, 266, 244, 128, 167, 51, 67, 259, 306, 336, 227, 262, 132, 295, 384, 280, 230, 258, 271, 355, 253, 275, 298, 297, 339, 365, 381, 272, 276, 269, 309, 239, 220, 247, 282, 245, 283, 301, 383, 342, 281, 379, 299, 348, 318, 333, 156, 376, 221, 109, 367, 337, 364, 366, 374, 284, 285, 290, 316, 320, 229, 242, 346, 232, 256, 326, 362, 358, 224, 233, 351, 129, 335, 357, 225, 62, 78, 312, 328, 371, 369, 226, 323, 240, 343, 39, 195, 27, 324, 120, 313, 238, 252, 300, 382, 310, 361]\n"
          ]
        }
      ]
    },
    {
      "cell_type": "code",
      "source": [
        "\n"
      ],
      "metadata": {
        "id": "mk2dWrpxWB3r"
      },
      "id": "mk2dWrpxWB3r",
      "execution_count": 6,
      "outputs": []
    },
    {
      "cell_type": "markdown",
      "source": [
        "## Bert Model Training"
      ],
      "metadata": {
        "id": "k5Hf3rYLMJ3y"
      },
      "id": "k5Hf3rYLMJ3y"
    },
    {
      "cell_type": "code",
      "execution_count": 7,
      "id": "a3917c9d-f731-4bf0-9a85-98c36f1ef916",
      "metadata": {
        "tags": [],
        "colab": {
          "base_uri": "https://localhost:8080/"
        },
        "id": "a3917c9d-f731-4bf0-9a85-98c36f1ef916",
        "outputId": "5a471e01-b24a-48ca-cf05-dc6fd0e76dc8"
      },
      "outputs": [
        {
          "output_type": "stream",
          "name": "stdout",
          "text": [
            "Initialized BERT4Rec model with vocab size 3706\n"
          ]
        }
      ],
      "source": [
        "# Transformer-based BERT4Rec Model\n",
        "# class BERT4Rec(nn.Module):\n",
        "#     def __init__(self, vocab_size, hidden_size=256, num_layers=4, num_heads=4, max_len=50):\n",
        "#         super(BERT4Rec, self).__init__()\n",
        "#         config = BertConfig(\n",
        "#             vocab_size=vocab_size,\n",
        "#             hidden_size=hidden_size,\n",
        "#             num_attention_heads=num_heads,\n",
        "#             num_hidden_layers=num_layers,\n",
        "#             max_position_embeddings=max_len,\n",
        "#         )\n",
        "#         self.bert = BertModel(config)\n",
        "#         self.output_layer = nn.Linear(hidden_size, vocab_size)  # Output layer to predict next movie ID\n",
        "\n",
        "#     def forward(self, input_ids, attention_mask):\n",
        "#         output = self.bert(input_ids=input_ids, attention_mask=attention_mask).last_hidden_state\n",
        "#         return self.output_layer(output)\n",
        "\n",
        "\n",
        "# class BERT4Rec(nn.Module):\n",
        "#     def __init__(self, vocab_size, hidden_size=256, num_layers=4, num_heads=4, max_len=50):\n",
        "#         super(BERT4Rec, self).__init__()\n",
        "#         config = BertConfig(\n",
        "#             vocab_size=vocab_size,\n",
        "#             hidden_size=hidden_size,\n",
        "#             num_attention_heads=num_heads,\n",
        "#             num_hidden_layers=num_layers,\n",
        "#             max_position_embeddings=max_len,\n",
        "#         )\n",
        "#         self.max_len = max_len\n",
        "#         self.bert = BertModel(config)\n",
        "#         self.output_layer = nn.Linear(hidden_size, vocab_size)  # Output layer to predict next movie ID\n",
        "\n",
        "#     def get_causal_mask(self, seq_len, device):\n",
        "#        return torch.tril(torch.ones((seq_len, seq_len), device=device))\n",
        "\n",
        "#     def forward(self, input_ids, attention_mask):\n",
        "#         batch_size, seq_len = input_ids.shape\n",
        "#         causal_mask = self.get_causal_mask(seq_len, input_ids.device)\n",
        "#         extended_attention_mask = attention_mask.unsqueeze(1) * causal_mask\n",
        "#         output = self.bert(input_ids=input_ids, attention_mask=extended_attention_mask).last_hidden_state\n",
        "#         return self.output_layer(output)\n",
        "\n",
        "# Transformer-based BERT4Rec Model\n",
        "class BERT4Rec(nn.Module):\n",
        "    def __init__(self, vocab_size, hidden_size=256, num_layers=4, num_heads=4, max_len=30, dropout_rate=0.2):\n",
        "        super(BERT4Rec, self).__init__()\n",
        "        config = BertConfig(\n",
        "            vocab_size=vocab_size,\n",
        "            hidden_size=hidden_size,\n",
        "            num_attention_heads=num_heads,\n",
        "            num_hidden_layers=num_layers,\n",
        "            max_position_embeddings=max_len,\n",
        "        )\n",
        "        self.bert = BertModel(config)\n",
        "        self.max_len= max_len\n",
        "        self.layernorm = nn.LayerNorm(hidden_size)\n",
        "        self.dropout = nn.Dropout(dropout_rate)\n",
        "        self.output_layer = nn.Linear(hidden_size, vocab_size)\n",
        "\n",
        "    def forward(self, input_ids, attention_mask):\n",
        "        batch_size, seq_len = input_ids.shape\n",
        "        causal_mask = torch.triu(torch.ones(seq_len, seq_len, dtype=torch.bool, device=input_ids.device), diagonal=1)\n",
        "        output = self.bert(\n",
        "            input_ids=input_ids,\n",
        "            attention_mask=attention_mask,\n",
        "            encoder_attention_mask=~causal_mask  # PyTorch requires masked positions to be False\n",
        "        ).last_hidden_state\n",
        "        output = self.layernorm(output)\n",
        "        output = self.dropout(output)\n",
        "        return self.output_layer(output)\n",
        "\n",
        "# Initialize Model\n",
        "vocab_size = max(max(seq) for seq in user_movie_dict.values()) + 1  # Get max movie ID as vocab size\n",
        "bert_model = BERT4Rec(vocab_size).to(device)\n",
        "\n",
        "print(f\"Initialized BERT4Rec model with vocab size {vocab_size}\")"
      ]
    },
    {
      "cell_type": "code",
      "execution_count": 8,
      "id": "7d942151-25fd-4879-a9a6-89dbd2d9c76f",
      "metadata": {
        "colab": {
          "base_uri": "https://localhost:8080/"
        },
        "id": "7d942151-25fd-4879-a9a6-89dbd2d9c76f",
        "outputId": "27b58d1c-0aa8-46bd-ff8f-0ae54ec2ec7a"
      },
      "outputs": [
        {
          "output_type": "stream",
          "name": "stdout",
          "text": [
            "Epoch 1, Train Loss: 7.508703939538253\n",
            "Epoch 2, Train Loss: 6.967548034065648\n",
            "Epoch 3, Train Loss: 6.64840178740652\n",
            "Epoch 4, Train Loss: 6.105854315506784\n",
            "Epoch 5, Train Loss: 4.70068762929816\n",
            "Epoch 6, Train Loss: 2.960682617990594\n",
            "Epoch 7, Train Loss: 1.8967414228539718\n",
            "Epoch 8, Train Loss: 1.2743983218544408\n",
            "Epoch 9, Train Loss: 0.8956950802552073\n",
            "Epoch 10, Train Loss: 0.6530241451765362\n",
            "Epoch 11, Train Loss: 0.4907758439842023\n",
            "Epoch 12, Train Loss: 0.37796720799646877\n",
            "Epoch 13, Train Loss: 0.2968657473200246\n",
            "Epoch 14, Train Loss: 0.23787538848425213\n",
            "Epoch 15, Train Loss: 0.19289519708407551\n",
            "Epoch 16, Train Loss: 0.15811924801061028\n",
            "Epoch 17, Train Loss: 0.1322144695018467\n",
            "Epoch 18, Train Loss: 0.11140918472879811\n",
            "Epoch 19, Train Loss: 0.09438642796717192\n",
            "Epoch 20, Train Loss: 0.08040275542359603\n",
            "Epoch 21, Train Loss: 0.06926781354766143\n",
            "Epoch 22, Train Loss: 0.06011462031226409\n",
            "Epoch 23, Train Loss: 0.052548844053557045\n",
            "Epoch 24, Train Loss: 0.04630030232824777\n",
            "Epoch 25, Train Loss: 0.04087333465485196\n",
            "Epoch 26, Train Loss: 0.03616549023672154\n",
            "Epoch 27, Train Loss: 0.03220733390434792\n",
            "Epoch 28, Train Loss: 0.02875147310918883\n",
            "Epoch 29, Train Loss: 0.025891223863551492\n",
            "Epoch 30, Train Loss: 0.023255463375857002\n",
            "Epoch 31, Train Loss: 0.020879313281100046\n",
            "Epoch 32, Train Loss: 0.018852205368641177\n",
            "Epoch 33, Train Loss: 0.017573394812643528\n",
            "Epoch 34, Train Loss: 0.015743313239593253\n",
            "Epoch 35, Train Loss: 0.01426711710856149\n",
            "Epoch 36, Train Loss: 0.013095266028846565\n",
            "Epoch 37, Train Loss: 0.012035663043589969\n",
            "Epoch 38, Train Loss: 0.0110259147164853\n",
            "Epoch 39, Train Loss: 0.010111087849853855\n",
            "Epoch 40, Train Loss: 0.009386412980721185\n"
          ]
        }
      ],
      "source": [
        "# Define Training Function\n",
        "def train_model(model, dataloader, epochs=3, lr=0.0001):\n",
        "    optimizer = optim.Adam(model.parameters(), lr=lr)\n",
        "    # criterion = nn.CrossEntropyLoss()\n",
        "    criterion = nn.CrossEntropyLoss(ignore_index=0)\n",
        "    model.train()\n",
        "\n",
        "    for epoch in range(epochs):\n",
        "        total_loss = 0\n",
        "        for inputs, targets, attention_mask in dataloader:\n",
        "            inputs, targets, attention_mask = inputs.to(device), targets.to(device), attention_mask.to(device)\n",
        "            optimizer.zero_grad()\n",
        "            outputs = model(inputs, attention_mask)\n",
        "            loss = criterion(outputs.view(-1, outputs.shape[-1]), targets.view(-1))\n",
        "            loss.backward()\n",
        "            optimizer.step()\n",
        "            total_loss += loss.item()\n",
        "\n",
        "        print(f\"Epoch {epoch + 1}, Train Loss: {total_loss / len(dataloader)}\")\n",
        "\n",
        "# Train on Train DataLoader\n",
        "train_model(bert_model, train_dataloader, epochs=40, lr= 0.0001)"
      ]
    },
    {
      "cell_type": "code",
      "execution_count": 9,
      "id": "6f11f335-c400-48d4-bb06-421207cfd204",
      "metadata": {
        "tags": [],
        "id": "6f11f335-c400-48d4-bb06-421207cfd204"
      },
      "outputs": [],
      "source": [
        "# Define Evaluation Function\n",
        "def evaluate_model(model, dataloader, k=10):\n",
        "    model.eval()\n",
        "    total_loss = 0\n",
        "    total_recall = 0\n",
        "    total_ndcg = 0\n",
        "    criterion = nn.CrossEntropyLoss()\n",
        "\n",
        "    with torch.no_grad():\n",
        "        for inputs, targets, attention_mask in dataloader:\n",
        "            inputs, targets, attention_mask = inputs.to(device), targets.to(device), attention_mask.to(device)\n",
        "\n",
        "            outputs = model(inputs, attention_mask)  # (batch_size, seq_len, vocab_size)\n",
        "            loss = criterion(outputs.view(-1, outputs.shape[-1]), targets.view(-1))\n",
        "            total_loss += loss.item()\n",
        "\n",
        "            # Compute Recall@K & NDCG@K\n",
        "            _, top_k_predictions = torch.topk(outputs, k, dim=-1)  # Get top K movie predictions\n",
        "            recall = recall_at_k(top_k_predictions, targets, k)\n",
        "            ndcg = ndcg_at_k(top_k_predictions, targets, k)\n",
        "\n",
        "            total_recall += recall\n",
        "            total_ndcg += ndcg\n",
        "\n",
        "    avg_loss = total_loss / len(dataloader)\n",
        "    avg_recall = total_recall / len(dataloader)\n",
        "    avg_ndcg = total_ndcg / len(dataloader)\n",
        "\n",
        "    print(f\"Test Loss: {avg_loss:.4f}, Recall@{k}: {avg_recall:.4f}, NDCG@{k}: {avg_ndcg:.4f}\")\n",
        "    return avg_loss, avg_recall, avg_ndcg\n",
        "\n",
        "# Compute Recall@K\n",
        "def recall_at_k(top_k_predictions, targets, k):\n",
        "    hits = (top_k_predictions == targets.unsqueeze(-1)).float()  # Check if target is in top K\n",
        "    recall = hits.sum(dim=-1).mean().item()  # Compute recall\n",
        "    return recall\n",
        "\n",
        "# Compute NDCG@K\n",
        "def ndcg_at_k(top_k_predictions, targets, k):\n",
        "    hits = (top_k_predictions == targets.unsqueeze(-1)).float()\n",
        "    log_positions = 1 / torch.log2(torch.arange(2, k + 2, device=targets.device).float())  # Discount factor\n",
        "    dcg = (hits * log_positions).sum(dim=-1).mean().item()\n",
        "    return dcg"
      ]
    },
    {
      "cell_type": "code",
      "execution_count": 10,
      "id": "0c83a1d4-b53a-4bd0-84b6-60d6728b88bc",
      "metadata": {
        "tags": [],
        "colab": {
          "base_uri": "https://localhost:8080/"
        },
        "id": "0c83a1d4-b53a-4bd0-84b6-60d6728b88bc",
        "outputId": "b6b003b6-1cf2-499e-f5fc-367d36977927"
      },
      "outputs": [
        {
          "output_type": "stream",
          "name": "stdout",
          "text": [
            "Test Loss: 5.5949, Recall@10: 0.6027, NDCG@10: 0.6027\n"
          ]
        }
      ],
      "source": [
        "# Evaluate on Test DataLoader\n",
        "test_loss, recall_k, ndcg_k = evaluate_model(bert_model, test_dataloader, k=10)"
      ]
    },
    {
      "cell_type": "code",
      "execution_count": 11,
      "id": "8f049d05-3e8e-45dd-b9e8-7ef92e13360e",
      "metadata": {
        "id": "8f049d05-3e8e-45dd-b9e8-7ef92e13360e"
      },
      "outputs": [],
      "source": [
        "torch.save(bert_model.state_dict(),\"BERT4REC_model.pth\")\n"
      ]
    },
    {
      "cell_type": "markdown",
      "source": [
        "## loading CF model"
      ],
      "metadata": {
        "id": "djbt3Kt2laHS"
      },
      "id": "djbt3Kt2laHS"
    },
    {
      "cell_type": "code",
      "source": [
        "# Define CF-based Matrix Factorization Model\n",
        "class MatrixFactorization(nn.Module):\n",
        "    def __init__(self, num_users, num_movies, embedding_dim=150):\n",
        "        super(MatrixFactorization, self).__init__()\n",
        "        self.user_embedding = nn.Embedding(num_users, embedding_dim)\n",
        "        self.movie_embedding = nn.Embedding(num_movies, embedding_dim)\n",
        "        self.user_bias = nn.Embedding(num_users, 1)\n",
        "        self.movie_bias = nn.Embedding(num_movies, 1)\n",
        "\n",
        "    def forward(self, user_ids, movie_ids):\n",
        "        user_vecs = self.user_embedding(user_ids)  # (batch_size, embedding_dim)\n",
        "        movie_vecs = self.movie_embedding(movie_ids)  # (batch_size, embedding_dim)\n",
        "        dot_product = (user_vecs * movie_vecs).sum(-1)  # Compute rating scores\n",
        "        pred_ratings = dot_product + self.user_bias(user_ids).squeeze() + self.movie_bias(movie_ids).squeeze()\n",
        "        return pred_ratings  # Shape should be (batch_size,) or (batch_size, num_movies)\n",
        "\n",
        "cf_model = MatrixFactorization(6040, 3706).to(device)\n",
        "cf_model.load_state_dict(torch.load('CF_model.pth', map_location=device))"
      ],
      "metadata": {
        "colab": {
          "base_uri": "https://localhost:8080/"
        },
        "id": "VSFIf9aVlcH9",
        "outputId": "bed50c7b-e42b-4ba1-b34b-9d355906b7af"
      },
      "id": "VSFIf9aVlcH9",
      "execution_count": 12,
      "outputs": [
        {
          "output_type": "stream",
          "name": "stderr",
          "text": [
            "<ipython-input-12-7c6a33b64931>:18: FutureWarning: You are using `torch.load` with `weights_only=False` (the current default value), which uses the default pickle module implicitly. It is possible to construct malicious pickle data which will execute arbitrary code during unpickling (See https://github.com/pytorch/pytorch/blob/main/SECURITY.md#untrusted-models for more details). In a future release, the default value for `weights_only` will be flipped to `True`. This limits the functions that could be executed during unpickling. Arbitrary objects will no longer be allowed to be loaded via this mode unless they are explicitly allowlisted by the user via `torch.serialization.add_safe_globals`. We recommend you start setting `weights_only=True` for any use case where you don't have full control of the loaded file. Please open an issue on GitHub for any issues related to this experimental feature.\n",
            "  cf_model.load_state_dict(torch.load('CF_model.pth', map_location=device))\n"
          ]
        },
        {
          "output_type": "execute_result",
          "data": {
            "text/plain": [
              "<All keys matched successfully>"
            ]
          },
          "metadata": {},
          "execution_count": 12
        }
      ]
    },
    {
      "cell_type": "markdown",
      "source": [
        "## CF and Bert prediction and a linear hybrid score on single example\n",
        "$ $hybrid_score$ =  α \\times $cf_score$ + (1-α) \\times $bert_score$ $"
      ],
      "metadata": {
        "id": "9l7sqI29Mzbp"
      },
      "id": "9l7sqI29Mzbp"
    },
    {
      "cell_type": "code",
      "source": [
        "def predict_ratings_for_items_cf(cf_model, user_id, item_ids, device=device):\n",
        "    cf_model.eval()\n",
        "\n",
        "    user_tensor = torch.tensor([user_id]*len(item_ids), dtype=torch.long, device=device)\n",
        "    movie_tensor = torch.tensor(item_ids, dtype=torch.long, device=device)\n",
        "    with torch.no_grad():\n",
        "        preds = cf_model(user_tensor, movie_tensor)\n",
        "        # preds = preds.numpy()  # depends on the device\n",
        "    return preds"
      ],
      "metadata": {
        "id": "FGVPJYCTmXGx"
      },
      "id": "FGVPJYCTmXGx",
      "execution_count": 13,
      "outputs": []
    },
    {
      "cell_type": "code",
      "source": [
        "# user_id_example = random.choice(test_data[\"userId\"].unique().tolist())\n",
        "user_id_example = 5411\n",
        "\n",
        "all_mapped_movie_ids = list(movie_ids.values())\n",
        "\n",
        "ratings  = predict_ratings_for_items_cf(cf_model, user_id_example, all_mapped_movie_ids, device=device)\n",
        "\n",
        "item_rating_pairs = list(zip(all_mapped_movie_ids, ratings))\n",
        "item_rating_pairs.sort(key=lambda x: x[1], reverse=True)\n",
        "top_recommendations_cf = []\n",
        "for i in range(5):\n",
        "    print(f\"UserId {user_id_example} on Item {item_rating_pairs[i][0]}, rating {item_rating_pairs[i][1]:.2f}\")\n",
        "    top_recommendations_cf.append(item_rating_pairs[i][0])\n",
        "\n",
        "print(\"top_recommendations_cf = \",top_recommendations_cf)\n",
        "actual_ratings = test_data_cf[test_data_cf[\"userId\"] == user_id_example][[\"movieId\", \"rating\"]]\n",
        "# actual_ratings = test_data_cf[test_data_cf[\"userId\"] == user_id_example][[\"movieId\", \"rating\"]]\n",
        "\n",
        "\n",
        "# Print all actual ratings for user 5411\n",
        "# print(f\"Actual Ratings for User {user_id_example}:\")\n",
        "# print(actual_ratings)"
      ],
      "metadata": {
        "colab": {
          "base_uri": "https://localhost:8080/"
        },
        "id": "vDMWcFn_EUYS",
        "outputId": "d3e95109-89c5-4c4b-b85b-fecf0fb752ab"
      },
      "id": "vDMWcFn_EUYS",
      "execution_count": 14,
      "outputs": [
        {
          "output_type": "stream",
          "name": "stdout",
          "text": [
            "UserId 5411 on Item 29, rating 4.94\n",
            "UserId 5411 on Item 259, rating 4.89\n",
            "UserId 5411 on Item 167, rating 4.89\n",
            "UserId 5411 on Item 611, rating 4.89\n",
            "UserId 5411 on Item 535, rating 4.86\n",
            "top_recommendations_cf =  [29, 259, 167, 611, 535]\n"
          ]
        }
      ]
    },
    {
      "cell_type": "code",
      "source": [
        "# # Filter actual ratings to only include these movies\n",
        "# filtered_actual_ratings = actual_ratings[actual_ratings[\"movieId\"].isin(top_recommendations_cf)]\n",
        "\n",
        "# # Display the actual ratings for the selected movies\n",
        "# print(f\"Actual Ratings for User {user_id_example} on Selected Movies:\")\n",
        "# print(filtered_actual_ratings)\n"
      ],
      "metadata": {
        "id": "VLr8p7xrQLUX"
      },
      "id": "VLr8p7xrQLUX",
      "execution_count": 15,
      "outputs": []
    },
    {
      "cell_type": "markdown",
      "source": [
        "## BERT_model prediction"
      ],
      "metadata": {
        "id": "-QijelndEhSz"
      },
      "id": "-QijelndEhSz"
    },
    {
      "cell_type": "code",
      "source": [
        "import torch\n",
        "\n",
        "def predict_next_movies_bert(bert_model, user_sequence, candidate_items, top_k=10, device='cuda'):\n",
        "    bert_model.eval()\n",
        "    max_len = bert_model.max_len\n",
        "    input_sequence = user_sequence[-max_len:]\n",
        "    input_tensor = torch.tensor([input_sequence], dtype=torch.long, device=device)\n",
        "    attention_mask = (input_tensor != 0).long()\n",
        "    with torch.no_grad():\n",
        "        logits = bert_model(input_tensor, attention_mask)  # Shape: [1, seq_len, vocab_size]\n",
        "        next_item_logits = logits[:, -1, :]  # Extract last token's prediction\n",
        "\n",
        "    scores = {item: next_item_logits[0, item].item() for item in candidate_items}\n",
        "    sorted_movies = sorted(scores.items(), key=lambda x: x[1], reverse=True)\n",
        "    return [movie_id for movie_id, score in sorted_movies[:top_k]]\n"
      ],
      "metadata": {
        "id": "HWGdn62sFF1P"
      },
      "id": "HWGdn62sFF1P",
      "execution_count": 16,
      "outputs": []
    },
    {
      "cell_type": "code",
      "source": [
        "# device = 'cuda' if torch.cuda.is_available() else 'cpu'\n",
        "bert_model.to(device)\n",
        "user_sequence = user_movie_dict[user_id_example]  # Get this user's movie history\n",
        "\n",
        "candidate_items = list(movie_ids.values())\n",
        "\n",
        "top_recommendations_bert = predict_next_movies_bert(bert_model, user_sequence, candidate_items, top_k=5, device=device)\n",
        "print(\"Top 5recommended movies by BERT4Rec:\", top_recommendations_bert)\n",
        "print(\"Top 5recommended movies by CF:\", top_recommendations_cf)\n"
      ],
      "metadata": {
        "colab": {
          "base_uri": "https://localhost:8080/"
        },
        "id": "70s2Ra_zFKKP",
        "outputId": "055dae47-1efa-450a-b1f5-ed2bf0b97b1a"
      },
      "id": "70s2Ra_zFKKP",
      "execution_count": 17,
      "outputs": [
        {
          "output_type": "stream",
          "name": "stdout",
          "text": [
            "Top 5recommended movies by BERT4Rec: [338, 939, 1106, 1253, 184]\n",
            "Top 5recommended movies by CF: [29, 259, 167, 611, 535]\n"
          ]
        }
      ]
    },
    {
      "cell_type": "code",
      "source": [
        "# print(user_sequence)\n",
        "top_recommendations = predict_next_movies_bert(bert_model, user_sequence[:-1], candidate_items, top_k=5, device=device)[0]\n",
        "print(\"Top predicted next movies by BERT4Rec input (user_sequence-1):\", top_recommendations)\n",
        "print(\"Actual movie (user_sequence[-1]):\", user_sequence[-1])\n"
      ],
      "metadata": {
        "colab": {
          "base_uri": "https://localhost:8080/"
        },
        "id": "nfVlEHOHLm8e",
        "outputId": "634fee41-c214-4c7b-85df-a714932cc25d"
      },
      "id": "nfVlEHOHLm8e",
      "execution_count": 18,
      "outputs": [
        {
          "output_type": "stream",
          "name": "stdout",
          "text": [
            "Top predicted next movies by BERT4Rec input (user_sequence-1): 48\n",
            "Actual movie (user_sequence[-1]): 891\n"
          ]
        }
      ]
    },
    {
      "cell_type": "code",
      "source": [
        "# hybrid score\n",
        "alpha = 0.5\n",
        "cf_scores = predict_ratings_for_items_cf(cf_model, user_id_example, candidate_items, device=device)\n",
        "bert_scores = {item: idx for idx, item in enumerate(top_recommendations_bert[::-1])}  # Reverse ranking score\n",
        "cf_min, cf_max = min(cf_scores), max(cf_scores)\n",
        "cf_scores = {item: (score - cf_min) / (cf_max - cf_min) for item, score in zip(candidate_items, cf_scores)}\n",
        "bert_max = max(bert_scores.values()) if bert_scores else 1\n",
        "bert_scores = {item: score / bert_max for item, score in bert_scores.items()}\n",
        "# algo alpha * cf - (1-alpha) *bert -> linear\n",
        "fusion_scores = {\n",
        "    item: alpha * cf_scores.get(item, 0) + (1 - alpha) * bert_scores.get(item, 0)\n",
        "    for item in candidate_items\n",
        "}\n",
        "top_fusion_recommendations = sorted(fusion_scores.items(), key=lambda x: x[1], reverse=True)[:5]\n",
        "print(\"Top 5 recommended movies by Fusion Model:\")\n",
        "for movie, score in top_fusion_recommendations:\n",
        "    print(f\"Movie {movie}: Fusion Score {score:.2f}\")"
      ],
      "metadata": {
        "colab": {
          "base_uri": "https://localhost:8080/"
        },
        "id": "9G_IEjWIdsZf",
        "outputId": "e787b85c-71bd-413c-f369-dfcb2a6ad659"
      },
      "id": "9G_IEjWIdsZf",
      "execution_count": 19,
      "outputs": [
        {
          "output_type": "stream",
          "name": "stdout",
          "text": [
            "Top 5 recommended movies by Fusion Model:\n",
            "Movie 338: Fusion Score 0.97\n",
            "Movie 939: Fusion Score 0.80\n",
            "Movie 1106: Fusion Score 0.64\n",
            "Movie 1253: Fusion Score 0.57\n",
            "Movie 29: Fusion Score 0.50\n"
          ]
        }
      ]
    },
    {
      "cell_type": "markdown",
      "source": [
        "##Modeling##"
      ],
      "metadata": {
        "id": "sqSyPmSQe55E"
      },
      "id": "sqSyPmSQe55E"
    },
    {
      "cell_type": "code",
      "source": [
        "import torch\n",
        "import torch.nn as nn\n",
        "import torch.optim as optim\n",
        "\n",
        "class FusionModel(nn.Module):\n",
        "    def __init__(self, alpha=0.5):\n",
        "        \"\"\"\n",
        "        A simple fusion model t-> linear\n",
        "        \"\"\"\n",
        "        super(FusionModel, self).__init__()\n",
        "        self.alpha = nn.Parameter(torch.tensor(alpha, dtype=torch.float32))\n",
        "\n",
        "\n",
        "    def forward(self, cf_scores, bert_scores):\n",
        "        alpha = torch.sigmoid(self.alpha)  # Keeps alpha in range [0,1]\n",
        "        fusion_scores = alpha * cf_scores + (1 - alpha) * bert_scores\n",
        "        return fusion_scores"
      ],
      "metadata": {
        "id": "lmolserXfdNU"
      },
      "id": "lmolserXfdNU",
      "execution_count": 20,
      "outputs": []
    },
    {
      "cell_type": "code",
      "source": [
        "# def recall_at_k(top_k_predictions, targets, k):\n",
        "#     \"\"\"\n",
        "#     Compute Recall@K.\n",
        "#     \"\"\"\n",
        "#     targets = targets.view(-1, 1).expand(-1, k)  # Expand targets to (batch_size, K)\n",
        "#     hits = (top_k_predictions == targets).float()  # Check if target is in top-K\n",
        "#     recall = hits.sum(dim=-1).mean().item()\n",
        "#     return recall\n",
        "\n",
        "# def ndcg_at_k(top_k_predictions, targets, k):\n",
        "#     \"\"\"\n",
        "#     Compute NDCG@K.\n",
        "#     \"\"\"\n",
        "#     targets = targets.view(-1, 1).expand(-1, k)\n",
        "#     hits = (top_k_predictions == targets).float()\n",
        "#     log_positions = 1 / torch.log2(torch.arange(2, k + 2, device=targets.device).float())  # Discount factor\n",
        "#     dcg = (hits * log_positions).sum(dim=-1).mean().item()\n",
        "#     return dcg\n",
        "\n",
        "# Compute Recall@K\n",
        "def recall_at_k(top_k_predictions, targets, k):\n",
        "    hits = (top_k_predictions == targets.unsqueeze(-1)).float()  # Check if target is in top K\n",
        "    recall = hits.sum(dim=-1).mean().item()  # Compute recall\n",
        "    return recall\n",
        "\n",
        "# Compute NDCG@K\n",
        "def ndcg_at_k(top_k_predictions, targets, k):\n",
        "    hits = (top_k_predictions == targets.unsqueeze(-1)).float()\n",
        "    log_positions = 1 / torch.log2(torch.arange(2, k + 2, device=targets.device).float())  # Discount factor\n",
        "    dcg = (hits * log_positions).sum(dim=-1).mean().item()\n",
        "    return dcg"
      ],
      "metadata": {
        "id": "GrL7xrEvflBm"
      },
      "id": "GrL7xrEvflBm",
      "execution_count": 21,
      "outputs": []
    },
    {
      "cell_type": "code",
      "source": [],
      "metadata": {
        "id": "QpB83qFgfvju"
      },
      "id": "QpB83qFgfvju",
      "execution_count": 21,
      "outputs": []
    },
    {
      "cell_type": "code",
      "source": [
        "# OPTION1 - have future records\n",
        "# class FusionDataset(Dataset):\n",
        "#     def __init__(self, cf_data, user_movie_dict, movie_ids, max_history=50):\n",
        "#         \"\"\"\n",
        "#         Custom dataset for Fusion Model with sliding window.\n",
        "\n",
        "#         Args:\n",
        "#         - cf_data (DataFrame): CF training data with (userId, movieId, rating).\n",
        "#         - user_movie_dict (dict): User's historical watched sequences for BERT4Rec.\n",
        "#         - movie_ids (list): List of mapped movie IDs.\n",
        "#         - max_history (int): Maximum number of past movies to consider.\n",
        "#         \"\"\"\n",
        "#         self.cf_data = cf_data\n",
        "#         self.user_movie_dict = user_movie_dict\n",
        "#         self.movie_ids = movie_ids\n",
        "#         self.max_history = max_history\n",
        "\n",
        "#     def __len__(self):\n",
        "#         return len(self.cf_data)\n",
        "\n",
        "#     def __getitem__(self, idx):\n",
        "#         row = self.cf_data.iloc[idx]\n",
        "#         user_id = row[\"userId\"]\n",
        "#         movie_id = row[\"movieId\"]\n",
        "#         rating = row[\"rating\"]\n",
        "\n",
        "#         # Get full watched sequence\n",
        "#         full_sequence = self.user_movie_dict.get(user_id, [])\n",
        "\n",
        "#         # Get only past movies (before the current movie)\n",
        "#         if movie_id in full_sequence:\n",
        "#             movie_idx = full_sequence.index(movie_id)  # Find where this movie appears\n",
        "#             user_sequence = full_sequence[:movie_idx]  # Take only past movies\n",
        "#         else:\n",
        "#             user_sequence = full_sequence  # If not found, return full sequence\n",
        "\n",
        "#         # Truncate history to max length\n",
        "#         user_sequence = user_sequence[-self.max_history:]\n",
        "\n",
        "#         return torch.tensor(user_id, dtype=torch.long), \\\n",
        "#                torch.tensor(movie_id, dtype=torch.long), \\\n",
        "#                torch.tensor(rating, dtype=torch.float32), \\\n",
        "#                torch.tensor(user_sequence, dtype=torch.long)\n",
        "\n",
        "\n",
        "# # Create updated FusionDataset\n",
        "# train_dataset = FusionDataset(train_data_cf, user_movie_dict, movie_ids)\n",
        "# test_dataset = FusionDataset(test_data_cf, user_movie_dict, movie_ids)\n",
        "\n",
        "# OPTION2 - only keep the past\n",
        "from torch.utils.data import Dataset, DataLoader\n",
        "from torch.nn.utils.rnn import pad_sequence\n",
        "import torch\n",
        "\n",
        "class FusionDataset(Dataset):\n",
        "    def __init__(self, cf_data, user_movie_dict, movie_ids, max_history=30, pad_value=0):\n",
        "        \"\"\"\n",
        "        Custom dataset for Fusion Model.\n",
        "\n",
        "        Args:\n",
        "        - cf_data (DataFrame): CF training data with (userId, movieId, rating).\n",
        "        - user_movie_dict (dict): User's historical watched sequences for BERT4Rec.\n",
        "        - movie_ids (list): List of mapped movie IDs.\n",
        "        - max_history (int): Max past movies to keep for BERT.\n",
        "        - pad_value (int): Value to pad sequences.\n",
        "        \"\"\"\n",
        "        self.cf_data = cf_data\n",
        "        self.user_movie_dict = user_movie_dict\n",
        "        self.movie_ids = movie_ids\n",
        "        self.max_history = max_history\n",
        "        self.pad_value = pad_value\n",
        "\n",
        "    def __len__(self):\n",
        "        return len(self.cf_data)\n",
        "\n",
        "    def __getitem__(self, idx):\n",
        "        row = self.cf_data.iloc[idx]\n",
        "        user_id = row[\"userId\"]\n",
        "        movie_id = row[\"movieId\"]\n",
        "        rating = row[\"rating\"]\n",
        "\n",
        "        # Get user's watched sequence for BERT\n",
        "        user_sequence = self.user_movie_dict.get(user_id, [])\n",
        "        user_sequence = user_sequence[-self.max_history:]  # Keep only last `max_history` items\n",
        "        user_sequence = torch.tensor(user_sequence, dtype=torch.long)\n",
        "\n",
        "        # Candidate items (all movies) for BERT\n",
        "        candidate_items = torch.tensor(self.movie_ids, dtype=torch.long)\n",
        "\n",
        "        return (\n",
        "            torch.tensor(user_id, dtype=torch.long),\n",
        "            torch.tensor(movie_id, dtype=torch.long),\n",
        "            torch.tensor(rating, dtype=torch.float32),\n",
        "            user_sequence,  # User's history for BERT\n",
        "            candidate_items,  # Movies for BERT scoring\n",
        "        )\n",
        "\n",
        "# Function to pad sequences in DataLoader\n",
        "def collate_fn(batch):\n",
        "    users, movies, ratings, sequences, candidate_items = zip(*batch)\n",
        "\n",
        "    users = torch.stack(users)\n",
        "    movies = torch.stack(movies)\n",
        "    ratings = torch.stack(ratings)\n",
        "\n",
        "    # Pad user sequences\n",
        "    sequences = pad_sequence(sequences, batch_first=True, padding_value=0)\n",
        "    candidate_items = torch.stack(candidate_items)  # Should remain the same\n",
        "\n",
        "    return users, movies, ratings, sequences, candidate_items\n",
        "\n",
        "train_dataset = FusionDataset(train_data_cf, user_movie_dict, list(movie_ids.values()))\n",
        "test_dataset = FusionDataset(test_data_cf, user_movie_dict, list(movie_ids.values()))\n",
        "\n",
        "# Create data loaders\n",
        "train_loader = DataLoader(train_dataset, batch_size=64, shuffle=True, collate_fn=collate_fn)\n",
        "test_loader = DataLoader(test_dataset, batch_size=64, shuffle=False, collate_fn=collate_fn)\n",
        "\n",
        "# Print a sample batch\n",
        "for batch in train_loader:\n",
        "    users, movies, ratings, sequences, candidate_items = batch\n",
        "    print(f\"train_dataset shape: {len(train_dataset)}\")\n",
        "    print(f\"test_dataset shape: {len(test_dataset)}\")\n",
        "    print(f\"Users Shape: {users.shape}\")  # (batch_size,)\n",
        "    print(f\"Movies Shape: {movies.shape}\")  # (batch_size,)\n",
        "    print(f\"Ratings Shape: {ratings.shape}\")  # (batch_size,)\n",
        "    print(f\"Sequences Shape: {sequences.shape}\")  # (batch_size, max_history)\n",
        "    print(f\"Candidate Items Shape: {candidate_items.shape}\")  # (batch_size, num_movies)\n",
        "\n",
        "    # Print some values\n",
        "    # print(\"Users:\", users[:5])\n",
        "    # print(\"Movies:\", movies[:5])\n",
        "    # print(\"Ratings:\", ratings[:5])\n",
        "    # print(\"Sequences:\", sequences[:5])\n",
        "    # print(\"Candidate Items:\", candidate_items[:5])\n",
        "\n",
        "    break  # Only print one batch\n"
      ],
      "metadata": {
        "colab": {
          "base_uri": "https://localhost:8080/"
        },
        "id": "rhcoEKFggvIS",
        "outputId": "e045085d-10d1-4694-dab2-3e70415c0553"
      },
      "id": "rhcoEKFggvIS",
      "execution_count": 22,
      "outputs": [
        {
          "output_type": "stream",
          "name": "stdout",
          "text": [
            "train_dataset shape: 797758\n",
            "test_dataset shape: 202451\n",
            "Users Shape: torch.Size([64])\n",
            "Movies Shape: torch.Size([64])\n",
            "Ratings Shape: torch.Size([64])\n",
            "Sequences Shape: torch.Size([64, 30])\n",
            "Candidate Items Shape: torch.Size([64, 3706])\n"
          ]
        }
      ]
    },
    {
      "cell_type": "code",
      "source": [
        "#============================ dataset verifications\n",
        "# Print first 5 samples from the train dataset\n",
        "# Print first 5 samples from the train dataset\n",
        "# Print first 5 samples from the train dataset\n",
        "for i in range(3):\n",
        "    user_id, movie_id, rating, user_sequence, candidate_items = train_dataset[i]\n",
        "    print(f\"Sample {i}:\")\n",
        "    print(f\"  User ID: {user_id.item()}\")\n",
        "    print(f\"  Movie ID: {movie_id.item()}\")\n",
        "    print(f\"  Rating: {rating.item()}\")\n",
        "    print(f\"  First 10 User Sequence: {user_sequence.tolist()[:10]}\")  # Convert tensor to list\n",
        "    print(f\"  First 10 Candidate Items: {candidate_items.tolist()[:10]}\")  # Convert tensor to list\n",
        "    print(\"-\" * 50)"
      ],
      "metadata": {
        "colab": {
          "base_uri": "https://localhost:8080/"
        },
        "id": "leT0FtxIkTsc",
        "outputId": "e22d1756-4e04-4946-a996-9a42f465ee0d"
      },
      "id": "leT0FtxIkTsc",
      "execution_count": 23,
      "outputs": [
        {
          "output_type": "stream",
          "name": "stdout",
          "text": [
            "Sample 0:\n",
            "  User ID: 0\n",
            "  Movie ID: 31\n",
            "  Rating: 4.0\n",
            "  First 10 User Sequence: [45, 26, 2, 6, 19, 38, 52, 1, 13, 49]\n",
            "  First 10 Candidate Items: [0, 1, 2, 3, 4, 5, 6, 7, 8, 9]\n",
            "--------------------------------------------------\n",
            "Sample 1:\n",
            "  User ID: 0\n",
            "  Movie ID: 22\n",
            "  Rating: 5.0\n",
            "  First 10 User Sequence: [45, 26, 2, 6, 19, 38, 52, 1, 13, 49]\n",
            "  First 10 Candidate Items: [0, 1, 2, 3, 4, 5, 6, 7, 8, 9]\n",
            "--------------------------------------------------\n",
            "Sample 2:\n",
            "  User ID: 0\n",
            "  Movie ID: 27\n",
            "  Rating: 4.0\n",
            "  First 10 User Sequence: [45, 26, 2, 6, 19, 38, 52, 1, 13, 49]\n",
            "  First 10 Candidate Items: [0, 1, 2, 3, 4, 5, 6, 7, 8, 9]\n",
            "--------------------------------------------------\n"
          ]
        }
      ]
    },
    {
      "cell_type": "code",
      "source": [
        "from tqdm import tqdm  # Progress bar for training\n",
        "\n",
        "def train_fusion_model(fusion_model, train_loader, cf_model, bert_model, epochs=10, lr=0.01, print_every=int(12465/10)):\n",
        "    fusion_model.train()\n",
        "    optimizer = optim.Adam(fusion_model.parameters(), lr=lr)\n",
        "    # criterion = nn.MSELoss()\n",
        "    criterion = nn.CrossEntropyLoss()\n",
        "\n",
        "    for epoch in range(epochs):\n",
        "        total_loss = 0\n",
        "        batch_count = len(train_loader)\n",
        "\n",
        "        print(f\"\\n Epoch {epoch+1}/{epochs} - Training Started...\")\n",
        "\n",
        "        progress_bar = tqdm(enumerate(train_loader), total=batch_count, desc=f\"Epoch {epoch+1}\", position=0, leave=True)\n",
        "\n",
        "        for batch_idx, (users, movies, ratings, sequences, candidate_items) in progress_bar:\n",
        "            users, movies, ratings = users.to(device), movies.to(device), ratings.to(device)\n",
        "            sequences, candidate_items = sequences.to(device), candidate_items.to(device)\n",
        "\n",
        "            # Get CF scores\n",
        "            cf_scores = cf_model(users, movies)  # Shape: (batch_size,)\n",
        "\n",
        "            valid_mask = (sequences != 0).float()\n",
        "            with torch.no_grad():  # No gradient needed for inference\n",
        "                bert_logits = bert_model(sequences, valid_mask)  # Shape: (batch_size, max_seq_len, vocab_size)\n",
        "                bert_scores_all = bert_logits[:, -1, :]  # Shape: (batch_size, vocab_size)\n",
        "                bert_scores = torch.gather(bert_scores_all, 1, candidate_items)  # Shape: (batch_size, num_candidates)\n",
        "\n",
        "            # Normalize BERT scores\n",
        "            if bert_scores.max() > 0:\n",
        "                bert_scores = (bert_scores - bert_scores.min()) / (bert_scores.max() - bert_scores.min() + 1e-8)\n",
        "\n",
        "            # Compute Fusion Scores\n",
        "            fusion_scores = fusion_model(cf_scores, bert_scores.mean(dim=1))  # Mean candidate scores\n",
        "\n",
        "            # Compute Loss\n",
        "            loss = criterion(fusion_scores, ratings)\n",
        "            optimizer.zero_grad()\n",
        "            loss.backward()\n",
        "            optimizer.step()\n",
        "\n",
        "            total_loss += loss.item()\n",
        "\n",
        "            # Update Progress Bar with Loss\n",
        "            progress_bar.set_postfix({\"Batch Loss\": f\"{loss.item():.4f}\"})\n",
        "\n",
        "            # Print loss every `print_every` batches\n",
        "            if (batch_idx + 1) % print_every == 0:\n",
        "                print(f\"🔹 [Epoch {epoch+1} | Batch {batch_idx+1}/{batch_count}] Loss: {loss.item():.4f}\")\n",
        "\n",
        "        avg_loss = total_loss / len(train_loader)\n",
        "        print(f\"Epoch {epoch+1} Completed! Average Loss: {avg_loss:.4f}\\n\")\n",
        "\n",
        "    return fusion_model\n"
      ],
      "metadata": {
        "id": "EO9tIrum3Mjg"
      },
      "id": "EO9tIrum3Mjg",
      "execution_count": 24,
      "outputs": []
    },
    {
      "cell_type": "code",
      "source": [
        "# Initialize Fusion Model\n",
        "fusion_model = FusionModel(alpha=0.05).to(device)\n",
        "# Train Fusion Model\n",
        "# trained_fusion_model = train_fusion_model(fusion_model, train_loader, cf_model, bert_model , epochs=1, lr=0.002)\n",
        "trained_fusion_model = train_fusion_model(fusion_model, train_loader, cf_model, bert_model , epochs=2, lr=0.002)\n"
      ],
      "metadata": {
        "colab": {
          "base_uri": "https://localhost:8080/"
        },
        "id": "P_iqS_qefyTI",
        "outputId": "6e4ee402-c98b-4786-f0cf-ac29a83c2468"
      },
      "id": "P_iqS_qefyTI",
      "execution_count": 26,
      "outputs": [
        {
          "metadata": {
            "tags": null
          },
          "name": "stdout",
          "output_type": "stream",
          "text": [
            "\n",
            " Epoch 1/2 - Training Started...\n"
          ]
        },
        {
          "metadata": {
            "tags": null
          },
          "name": "stderr",
          "output_type": "stream",
          "text": [
            "Epoch 1:  10%|█         | 1251/12465 [00:41<06:16, 29.79it/s, Batch Loss=938.3141]"
          ]
        },
        {
          "metadata": {
            "tags": null
          },
          "name": "stdout",
          "output_type": "stream",
          "text": [
            "🔹 [Epoch 1 | Batch 1246/12465] Loss: 987.5814\n"
          ]
        },
        {
          "metadata": {
            "tags": null
          },
          "name": "stderr",
          "output_type": "stream",
          "text": [
            "Epoch 1:  20%|██        | 2496/12465 [01:22<05:27, 30.45it/s, Batch Loss=955.8197]"
          ]
        },
        {
          "metadata": {
            "tags": null
          },
          "name": "stdout",
          "output_type": "stream",
          "text": [
            "🔹 [Epoch 1 | Batch 2492/12465] Loss: 960.5973\n"
          ]
        },
        {
          "metadata": {
            "tags": null
          },
          "name": "stderr",
          "output_type": "stream",
          "text": [
            "Epoch 1:  30%|███       | 3741/12465 [02:03<04:49, 30.09it/s, Batch Loss=912.2230]"
          ]
        },
        {
          "metadata": {
            "tags": null
          },
          "name": "stdout",
          "output_type": "stream",
          "text": [
            "🔹 [Epoch 1 | Batch 3738/12465] Loss: 943.6526\n"
          ]
        },
        {
          "metadata": {
            "tags": null
          },
          "name": "stderr",
          "output_type": "stream",
          "text": [
            "Epoch 1:  40%|████      | 4987/12465 [02:45<04:04, 30.59it/s, Batch Loss=935.5485]"
          ]
        },
        {
          "metadata": {
            "tags": null
          },
          "name": "stdout",
          "output_type": "stream",
          "text": [
            "🔹 [Epoch 1 | Batch 4984/12465] Loss: 990.0252\n"
          ]
        },
        {
          "metadata": {
            "tags": null
          },
          "name": "stderr",
          "output_type": "stream",
          "text": [
            "Epoch 1:  50%|█████     | 6236/12465 [03:26<03:22, 30.79it/s, Batch Loss=951.6280]"
          ]
        },
        {
          "metadata": {
            "tags": null
          },
          "name": "stdout",
          "output_type": "stream",
          "text": [
            "🔹 [Epoch 1 | Batch 6230/12465] Loss: 892.0582\n"
          ]
        },
        {
          "metadata": {
            "tags": null
          },
          "name": "stderr",
          "output_type": "stream",
          "text": [
            "Epoch 1:  60%|██████    | 7480/12465 [04:07<02:44, 30.22it/s, Batch Loss=1010.9882]"
          ]
        },
        {
          "metadata": {
            "tags": null
          },
          "name": "stdout",
          "output_type": "stream",
          "text": [
            "🔹 [Epoch 1 | Batch 7476/12465] Loss: 873.4447\n"
          ]
        },
        {
          "metadata": {
            "tags": null
          },
          "name": "stderr",
          "output_type": "stream",
          "text": [
            "Epoch 1:  70%|███████   | 8727/12465 [04:48<02:02, 30.61it/s, Batch Loss=987.3887]"
          ]
        },
        {
          "metadata": {
            "tags": null
          },
          "name": "stdout",
          "output_type": "stream",
          "text": [
            "🔹 [Epoch 1 | Batch 8722/12465] Loss: 915.5775\n"
          ]
        },
        {
          "output_type": "stream",
          "name": "stderr",
          "text": [
            "Epoch 1:  80%|████████  | 9973/12465 [05:29<01:26, 28.93it/s, Batch Loss=919.0591]"
          ]
        },
        {
          "output_type": "stream",
          "name": "stdout",
          "text": [
            "🔹 [Epoch 1 | Batch 9968/12465] Loss: 925.8437\n"
          ]
        },
        {
          "output_type": "stream",
          "name": "stderr",
          "text": [
            "Epoch 1:  90%|████████▉ | 11217/12465 [06:11<00:41, 29.95it/s, Batch Loss=922.9736] "
          ]
        },
        {
          "output_type": "stream",
          "name": "stdout",
          "text": [
            "🔹 [Epoch 1 | Batch 11214/12465] Loss: 975.7284\n"
          ]
        },
        {
          "output_type": "stream",
          "name": "stderr",
          "text": [
            "Epoch 1: 100%|█████████▉| 12464/12465 [06:53<00:00, 29.49it/s, Batch Loss=931.4469]"
          ]
        },
        {
          "output_type": "stream",
          "name": "stdout",
          "text": [
            "🔹 [Epoch 1 | Batch 12460/12465] Loss: 941.2502\n"
          ]
        },
        {
          "output_type": "stream",
          "name": "stderr",
          "text": [
            "Epoch 1: 100%|██████████| 12465/12465 [06:53<00:00, 30.11it/s, Batch Loss=944.8641]\n"
          ]
        },
        {
          "output_type": "stream",
          "name": "stdout",
          "text": [
            "Epoch 1 Completed! Average Loss: 959.0383\n",
            "\n",
            "\n",
            " Epoch 2/2 - Training Started...\n"
          ]
        },
        {
          "output_type": "stream",
          "name": "stderr",
          "text": [
            "Epoch 2:  10%|█         | 1250/12465 [00:42<06:21, 29.36it/s, Batch Loss=968.8817]"
          ]
        },
        {
          "output_type": "stream",
          "name": "stdout",
          "text": [
            "🔹 [Epoch 2 | Batch 1246/12465] Loss: 996.0547\n"
          ]
        },
        {
          "output_type": "stream",
          "name": "stderr",
          "text": [
            "Epoch 2:  20%|██        | 2496/12465 [01:25<05:33, 29.88it/s, Batch Loss=954.8594]"
          ]
        },
        {
          "output_type": "stream",
          "name": "stdout",
          "text": [
            "🔹 [Epoch 2 | Batch 2492/12465] Loss: 1004.2924\n"
          ]
        },
        {
          "output_type": "stream",
          "name": "stderr",
          "text": [
            "Epoch 2:  30%|███       | 3743/12465 [02:07<05:05, 28.52it/s, Batch Loss=954.6555]"
          ]
        },
        {
          "output_type": "stream",
          "name": "stdout",
          "text": [
            "🔹 [Epoch 2 | Batch 3738/12465] Loss: 1010.7576\n"
          ]
        },
        {
          "output_type": "stream",
          "name": "stderr",
          "text": [
            "Epoch 2:  40%|████      | 4988/12465 [02:50<04:16, 29.15it/s, Batch Loss=901.6517] "
          ]
        },
        {
          "output_type": "stream",
          "name": "stdout",
          "text": [
            "🔹 [Epoch 2 | Batch 4984/12465] Loss: 942.6112\n"
          ]
        },
        {
          "output_type": "stream",
          "name": "stderr",
          "text": [
            "Epoch 2:  50%|█████     | 6234/12465 [03:32<03:30, 29.63it/s, Batch Loss=921.8342]"
          ]
        },
        {
          "output_type": "stream",
          "name": "stdout",
          "text": [
            "🔹 [Epoch 2 | Batch 6230/12465] Loss: 968.1781\n"
          ]
        },
        {
          "output_type": "stream",
          "name": "stderr",
          "text": [
            "Epoch 2:  60%|██████    | 7479/12465 [04:14<02:45, 30.19it/s, Batch Loss=1002.9128]"
          ]
        },
        {
          "output_type": "stream",
          "name": "stdout",
          "text": [
            "🔹 [Epoch 2 | Batch 7476/12465] Loss: 955.1781\n"
          ]
        },
        {
          "output_type": "stream",
          "name": "stderr",
          "text": [
            "Epoch 2:  70%|██████▉   | 8725/12465 [04:55<02:03, 30.33it/s, Batch Loss=926.9066]"
          ]
        },
        {
          "output_type": "stream",
          "name": "stdout",
          "text": [
            "🔹 [Epoch 2 | Batch 8722/12465] Loss: 963.7148\n"
          ]
        },
        {
          "output_type": "stream",
          "name": "stderr",
          "text": [
            "Epoch 2:  80%|███████▉  | 9971/12465 [05:37<01:23, 29.78it/s, Batch Loss=948.4774]"
          ]
        },
        {
          "output_type": "stream",
          "name": "stdout",
          "text": [
            "🔹 [Epoch 2 | Batch 9968/12465] Loss: 979.6338\n"
          ]
        },
        {
          "output_type": "stream",
          "name": "stderr",
          "text": [
            "Epoch 2:  90%|█████████ | 11219/12465 [06:18<00:42, 29.57it/s, Batch Loss=1023.8024]"
          ]
        },
        {
          "output_type": "stream",
          "name": "stdout",
          "text": [
            "🔹 [Epoch 2 | Batch 11214/12465] Loss: 979.7396\n"
          ]
        },
        {
          "output_type": "stream",
          "name": "stderr",
          "text": [
            "Epoch 2: 100%|█████████▉| 12461/12465 [07:00<00:00, 30.48it/s, Batch Loss=989.4104]"
          ]
        },
        {
          "output_type": "stream",
          "name": "stdout",
          "text": [
            "🔹 [Epoch 2 | Batch 12460/12465] Loss: 964.9349\n"
          ]
        },
        {
          "output_type": "stream",
          "name": "stderr",
          "text": [
            "Epoch 2: 100%|██████████| 12465/12465 [07:00<00:00, 29.67it/s, Batch Loss=916.1090]"
          ]
        },
        {
          "output_type": "stream",
          "name": "stdout",
          "text": [
            "Epoch 2 Completed! Average Loss: 958.9703\n",
            "\n"
          ]
        },
        {
          "output_type": "stream",
          "name": "stderr",
          "text": [
            "\n"
          ]
        }
      ]
    },
    {
      "cell_type": "code",
      "source": [
        "def evaluate_fusion_model(fusion_model, test_loader, cf_model, bert_model, k=10, device='cuda'):\n",
        "    fusion_model.eval()\n",
        "    total_loss, total_recall, total_ndcg = 0, 0, 0\n",
        "    # criterion = nn.MSELoss()\n",
        "    criterion = nn.CrossEntropyLoss()\n",
        "    batch_count = len(test_loader)\n",
        "\n",
        "    print(\"\\n Evaluating Fusion Model...\")\n",
        "    progress_bar = tqdm(enumerate(test_loader), total=batch_count, desc=\"Evaluating\", position=0, leave=True)\n",
        "\n",
        "    with torch.no_grad():\n",
        "        for batch_idx, (users, movies, ratings, sequences, candidate_items) in progress_bar:\n",
        "            users, movies, ratings = users.to(device), movies.to(device), ratings.to(device)\n",
        "            sequences, candidate_items = sequences.to(device), candidate_items.to(device)\n",
        "\n",
        "\n",
        "            cf_scores = cf_model(users, movies)\n",
        "\n",
        "\n",
        "            valid_mask = (sequences != 0).float()\n",
        "            bert_logits = bert_model(sequences, valid_mask)  # Shape: (batch_size, max_seq_len, vocab_size)\n",
        "            bert_scores_all = bert_logits[:, -1, :]  # Take last prediction\n",
        "\n",
        "\n",
        "            bert_scores = torch.gather(bert_scores_all, 1, candidate_items)  # Shape: (batch_size, num_candidates)\n",
        "\n",
        "\n",
        "            if bert_scores.max() > 0:\n",
        "                bert_scores = (bert_scores - bert_scores.min()) / (bert_scores.max() - bert_scores.min() + 1e-8)\n",
        "\n",
        "\n",
        "            fusion_scores = fusion_model(cf_scores, bert_scores.mean(dim=1))\n",
        "\n",
        "\n",
        "            loss = criterion(fusion_scores, ratings)\n",
        "            total_loss += loss.item()\n",
        "\n",
        "\n",
        "            _, top_k_predictions = torch.topk(fusion_scores, k, dim=-1)\n",
        "\n",
        "\n",
        "            recall = recall_at_k(top_k_predictions, movies, k)\n",
        "            ndcg = ndcg_at_k(top_k_predictions, movies, k)\n",
        "\n",
        "            total_recall += recall\n",
        "            total_ndcg += ndcg\n",
        "\n",
        "\n",
        "            progress_bar.set_postfix({\"Batch Loss\": f\"{loss.item():.4f}\"})\n",
        "\n",
        "    rmse = (total_loss / batch_count) ** 0.5\n",
        "    avg_recall = total_recall / batch_count\n",
        "    avg_ndcg = total_ndcg / batch_count\n",
        "\n",
        "    print(f\"\\n Evaluation Completed! Fusion Model - RMSE: {rmse:.4f}, Recall@{k}: {avg_recall:.4f}, NDCG@{k}: {avg_ndcg:.4f}\")\n",
        "\n",
        "    return rmse, avg_recall, avg_ndcg"
      ],
      "metadata": {
        "id": "v3zqXXEmIaDx"
      },
      "id": "v3zqXXEmIaDx",
      "execution_count": 27,
      "outputs": []
    },
    {
      "cell_type": "code",
      "source": [
        "# Evaluate the Fusion Model\n",
        "rmse, recall, ndcg = evaluate_fusion_model(fusion_model, test_loader, cf_model, bert_model, k=10, device=device)\n",
        "\n",
        "# Print Results\n",
        "# print(f\"Fusion Model Evaluation:\")\n",
        "# print(f\" - RMSE: {rmse:.4f}\")\n",
        "# print(f\" - Recall@10: {recall:.4f}\")\n",
        "# print(f\" - NDCG@10: {ndcg:.4f}\")\n"
      ],
      "metadata": {
        "colab": {
          "base_uri": "https://localhost:8080/"
        },
        "id": "xeQvuwP4IdW1",
        "outputId": "53c14e67-0393-4a32-b292-d56cb53a12db"
      },
      "id": "xeQvuwP4IdW1",
      "execution_count": 28,
      "outputs": [
        {
          "metadata": {
            "tags": null
          },
          "name": "stdout",
          "output_type": "stream",
          "text": [
            "\n",
            " Evaluating Fusion Model...\n"
          ]
        },
        {
          "output_type": "stream",
          "name": "stderr",
          "text": [
            "Evaluating: 100%|██████████| 3164/3164 [01:40<00:00, 31.33it/s, Batch Loss=220.6441]"
          ]
        },
        {
          "output_type": "stream",
          "name": "stdout",
          "text": [
            "\n",
            " Evaluation Completed! Fusion Model - RMSE: 30.2233, Recall@10: 0.0084, NDCG@10: 0.0038\n"
          ]
        },
        {
          "output_type": "stream",
          "name": "stderr",
          "text": [
            "\n"
          ]
        }
      ]
    }
  ],
  "metadata": {
    "kernelspec": {
      "display_name": "Python 3",
      "name": "python3"
    },
    "language_info": {
      "codemirror_mode": {
        "name": "ipython",
        "version": 3
      },
      "file_extension": ".py",
      "mimetype": "text/x-python",
      "name": "python",
      "nbconvert_exporter": "python",
      "pygments_lexer": "ipython3",
      "version": "3.11.9"
    },
    "colab": {
      "provenance": [],
      "gpuType": "A100",
      "machine_shape": "hm"
    },
    "accelerator": "GPU"
  },
  "nbformat": 4,
  "nbformat_minor": 5
}