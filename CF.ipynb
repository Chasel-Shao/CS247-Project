{
 "cells": [
  {
   "cell_type": "markdown",
   "id": "95c67cbe-fa47-4c74-8bfa-d70ca3975b96",
   "metadata": {},
   "source": [
    "# Collaborative Filtering-based recommendation system"
   ]
  },
  {
   "cell_type": "code",
   "execution_count": 1,
   "id": "f66dce6d-6613-4666-9c0d-7eaa4715887f",
   "metadata": {
    "tags": []
   },
   "outputs": [
    {
     "name": "stdout",
     "output_type": "stream",
     "text": [
      "Using device: cpu\n"
     ]
    }
   ],
   "source": [
    "import pandas as pd\n",
    "import numpy as np\n",
    "import torch\n",
    "import torch.nn as nn\n",
    "import torch.optim as optim\n",
    "from torch.utils.data import Dataset, DataLoader\n",
    "from sklearn.model_selection import train_test_split\n",
    "\n",
    "# Check if CUDA is available\n",
    "device = torch.device(\"cuda\" if torch.cuda.is_available() else \"cpu\")\n",
    "print(f\"Using device: {device}\")"
   ]
  },
  {
   "cell_type": "code",
   "execution_count": 2,
   "id": "9b6418b8-3eaf-4743-acef-9d3e9980eae1",
   "metadata": {
    "tags": []
   },
   "outputs": [
    {
     "name": "stdout",
     "output_type": "stream",
     "text": [
      "Loaded 1000209 ratings.\n",
      "Train size: 800167, Test size: 200042\n"
     ]
    }
   ],
   "source": [
    "# Load MovieLens data\n",
    "def load_data(filepath=\"ml-1m/ratings.dat\"):\n",
    "    df = pd.read_csv(filepath, sep=\"::\", engine=\"python\", \n",
    "                     names=[\"userId\", \"movieId\", \"rating\", \"timestamp\"])\n",
    "    df = df.drop(columns=[\"timestamp\"])  # Remove timestamp for CF\n",
    "    return df\n",
    "\n",
    "ratings_df = load_data()\n",
    "print(f\"Loaded {len(ratings_df)} ratings.\")\n",
    "\n",
    "# Encode users and movies into unique indices\n",
    "user_ids = {user: idx for idx, user in enumerate(ratings_df[\"userId\"].unique())}\n",
    "movie_ids = {movie: idx for idx, movie in enumerate(ratings_df[\"movieId\"].unique())}\n",
    "\n",
    "# Map users and movies to indices\n",
    "ratings_df[\"userId\"] = ratings_df[\"userId\"].map(user_ids)\n",
    "ratings_df[\"movieId\"] = ratings_df[\"movieId\"].map(movie_ids)\n",
    "\n",
    "# Train-test split (80% train, 20% test)\n",
    "train_data, test_data = train_test_split(ratings_df, test_size=0.2, random_state=42)\n",
    "\n",
    "print(f\"Train size: {len(train_data)}, Test size: {len(test_data)}\")\n"
   ]
  },
  {
   "cell_type": "code",
   "execution_count": 3,
   "id": "a2c482ac-3fc6-4c7c-8c82-a3edec3f68ee",
   "metadata": {
    "tags": []
   },
   "outputs": [],
   "source": [
    "# Define CF-based Matrix Factorization Model\n",
    "class MatrixFactorization(nn.Module):\n",
    "    def __init__(self, num_users, num_movies, embedding_dim=50):\n",
    "        super(MatrixFactorization, self).__init__()\n",
    "        self.user_embedding = nn.Embedding(num_users, embedding_dim)\n",
    "        self.movie_embedding = nn.Embedding(num_movies, embedding_dim)\n",
    "        self.user_bias = nn.Embedding(num_users, 1)\n",
    "        self.movie_bias = nn.Embedding(num_movies, 1)\n",
    "\n",
    "    def forward(self, user_ids, movie_ids):\n",
    "        user_vecs = self.user_embedding(user_ids)  # (batch_size, embedding_dim)\n",
    "        movie_vecs = self.movie_embedding(movie_ids)  # (batch_size, embedding_dim)\n",
    "        dot_product = (user_vecs * movie_vecs).sum(-1)  # Compute rating scores\n",
    "        pred_ratings = dot_product + self.user_bias(user_ids).squeeze() + self.movie_bias(movie_ids).squeeze()\n",
    "        return pred_ratings  # Shape should be (batch_size,) or (batch_size, num_movies)\n",
    "\n"
   ]
  },
  {
   "cell_type": "code",
   "execution_count": 4,
   "id": "9cbb04b2-afcd-4a78-8b62-5d55edb1238b",
   "metadata": {
    "tags": []
   },
   "outputs": [],
   "source": [
    "# PyTorch Dataset for CF\n",
    "class CF_Dataset(Dataset):\n",
    "    def __init__(self, df):\n",
    "        self.users = torch.tensor(df[\"userId\"].values, dtype=torch.long)\n",
    "        self.movies = torch.tensor(df[\"movieId\"].values, dtype=torch.long)\n",
    "        self.ratings = torch.tensor(df[\"rating\"].values, dtype=torch.float32)\n",
    "\n",
    "    def __len__(self):\n",
    "        return len(self.users)\n",
    "\n",
    "    def __getitem__(self, idx):\n",
    "        return self.users[idx], self.movies[idx], self.ratings[idx]\n",
    "\n",
    "# Create train and test DataLoaders\n",
    "train_dataset = CF_Dataset(train_data)\n",
    "test_dataset = CF_Dataset(test_data)\n",
    "\n",
    "train_loader = DataLoader(train_dataset, batch_size=256, shuffle=True)\n",
    "test_loader = DataLoader(test_dataset, batch_size=256, shuffle=False)\n"
   ]
  },
  {
   "cell_type": "code",
   "execution_count": 5,
   "id": "821a445f-cfe5-4d7f-a1b6-3c47bf8c8f47",
   "metadata": {
    "tags": []
   },
   "outputs": [
    {
     "name": "stdout",
     "output_type": "stream",
     "text": [
      "Epoch 1, Loss: 18.8715\n",
      "Epoch 2, Loss: 1.6228\n",
      "Epoch 3, Loss: 0.9619\n",
      "Epoch 4, Loss: 0.9629\n",
      "Epoch 5, Loss: 0.9620\n",
      "Epoch 6, Loss: 0.9543\n",
      "Epoch 7, Loss: 0.9488\n",
      "Epoch 8, Loss: 0.9444\n",
      "Epoch 9, Loss: 0.9416\n",
      "Epoch 10, Loss: 0.9388\n",
      "Epoch 11, Loss: 0.9364\n",
      "Epoch 12, Loss: 0.9344\n",
      "Epoch 13, Loss: 0.9333\n",
      "Epoch 14, Loss: 0.9318\n",
      "Epoch 15, Loss: 0.9300\n",
      "Epoch 16, Loss: 0.9303\n",
      "Epoch 17, Loss: 0.9279\n",
      "Epoch 18, Loss: 0.9279\n",
      "Epoch 19, Loss: 0.9277\n",
      "Epoch 20, Loss: 0.9276\n"
     ]
    },
    {
     "data": {
      "image/png": "[encoded data removed]",
      "text/plain": [
       "<Figure size 640x480 with 1 Axes>"
      ]
     },
     "metadata": {},
     "output_type": "display_data"
    }
   ],
   "source": [
    "# Train function for Matrix Factorization\n",
    "def train_cf(model, train_loader, epochs=5, lr=0.005):\n",
    "    model.to(device)\n",
    "    optimizer = optim.Adam(model.parameters(), lr=lr, weight_decay=1e-4)  # Added L2 regularization\n",
    "    criterion = nn.MSELoss()\n",
    "    losses = []\n",
    "\n",
    "    for epoch in range(epochs):\n",
    "        model.train()\n",
    "        total_loss = 0\n",
    "        for users, movies, ratings in train_loader:\n",
    "            users, movies, ratings = users.to(device), movies.to(device), ratings.to(device)\n",
    "            optimizer.zero_grad()\n",
    "            predictions = model(users, movies)\n",
    "            loss = criterion(predictions, ratings)\n",
    "            loss.backward()\n",
    "            optimizer.step()\n",
    "            total_loss += loss.item()\n",
    "        \n",
    "        avg_loss = total_loss / len(train_loader)\n",
    "        losses.append(avg_loss)\n",
    "        print(f\"Epoch {epoch+1}, Loss: {avg_loss:.4f}\")\n",
    "\n",
    "    # Plot loss curve\n",
    "    import matplotlib.pyplot as plt\n",
    "    plt.plot(range(1, epochs+1), losses, marker='o', label='Train Loss')\n",
    "    plt.xlabel(\"Epochs\")\n",
    "    plt.ylabel(\"Loss\")\n",
    "    plt.legend()\n",
    "    plt.show()\n",
    "\n",
    "\n",
    "# Initialize and Train CF Model\n",
    "num_users = len(user_ids)\n",
    "num_movies = len(movie_ids)\n",
    "cf_model = MatrixFactorization(num_users, num_movies).to(device)\n",
    "\n",
    "train_cf(cf_model, train_loader, epochs=20)\n"
   ]
  },
  {
   "cell_type": "code",
   "execution_count": 6,
   "id": "acfc1979-c835-4669-aad6-124ea8942169",
   "metadata": {
    "tags": []
   },
   "outputs": [],
   "source": [
    "import torch.nn.functional as F\n",
    "\n",
    "# Compute Recall@K\n",
    "def recall_at_k(top_k_predictions, targets, k):\n",
    "    \"\"\"\n",
    "    Computes Recall@K by checking how often the true movie appears in the top-K predictions.\n",
    "    \"\"\"\n",
    "    targets = targets.view(-1, 1).expand(-1, k)  # Expand targets to (batch_size, K)\n",
    "    hits = (top_k_predictions == targets).float()  # Check if true movie is in top-K\n",
    "    recall = hits.sum(dim=-1).mean().item()  # Compute recall\n",
    "    return recall\n",
    "\n",
    "# Compute NDCG@K\n",
    "def ndcg_at_k(top_k_predictions, targets, k):\n",
    "    \"\"\"\n",
    "    Computes NDCG@K by measuring ranking quality of the predicted recommendations.\n",
    "    \"\"\"\n",
    "    targets = targets.view(-1, 1).expand(-1, k)  # Expand targets for broadcasting\n",
    "    hits = (top_k_predictions == targets).float()\n",
    "    log_positions = 1 / torch.log2(torch.arange(2, k + 2, device=targets.device).float())  # Discount factor\n",
    "    dcg = (hits * log_positions).sum(dim=-1).mean().item()\n",
    "    return dcg\n",
    "\n",
    "\n",
    "\n",
    "# Evaluate CF model\n",
    "def evaluate_cf(model, test_loader, all_movie_ids, k=10):\n",
    "    model.eval()\n",
    "    total_loss = 0\n",
    "    total_recall = 0\n",
    "    total_ndcg = 0\n",
    "    criterion = nn.MSELoss()\n",
    "    \n",
    "    with torch.no_grad():\n",
    "        for batch_idx, (users, movies, ratings) in enumerate(test_loader):\n",
    "            users, movies, ratings = users.to(device), movies.to(device), ratings.to(device)\n",
    "\n",
    "            # Get all possible movie predictions\n",
    "            all_movies = torch.tensor(all_movie_ids, dtype=torch.long, device=device).expand(users.shape[0], -1)\n",
    "            users_expanded = users.unsqueeze(1).expand(-1, all_movies.shape[1])  \n",
    "            \n",
    "            predictions = model(users_expanded, all_movies)  # Expected shape (batch_size, num_movies)\n",
    "\n",
    "            # Debug: Print first user's top predictions\n",
    "            if batch_idx == 0:\n",
    "                top_k_values, top_k_predictions = torch.topk(predictions, k, dim=-1)\n",
    "                print(f\"User {users[0].item()} Top-10 Predictions (Movie IDs): {top_k_predictions[0].tolist()}\")\n",
    "                print(f\"User {users[0].item()} Predicted Scores: {top_k_values[0].tolist()}\")\n",
    "\n",
    "            # Compute RMSE\n",
    "            loss = criterion(model(users, movies), ratings)\n",
    "            total_loss += loss.item()\n",
    "\n",
    "            # Get top-K recommendations\n",
    "            _, top_k_predictions = torch.topk(predictions, k, dim=-1)\n",
    "\n",
    "            # Compute Recall@K & NDCG@K\n",
    "            recall = recall_at_k(top_k_predictions, movies, k)\n",
    "            ndcg = ndcg_at_k(top_k_predictions, movies, k)\n",
    "\n",
    "            total_recall += recall\n",
    "            total_ndcg += ndcg\n",
    "\n",
    "    # Compute averages\n",
    "    rmse = (total_loss / len(test_loader)) ** 0.5\n",
    "    avg_recall = total_recall / len(test_loader)\n",
    "    avg_ndcg = total_ndcg / len(test_loader)\n",
    "\n",
    "    print(f\"CF Test RMSE: {rmse:.4f}, Recall@{k}: {avg_recall:.4f}, NDCG@{k}: {avg_ndcg:.4f}\")\n",
    "    return rmse, avg_recall, avg_ndcg"
   ]
  },
  {
   "cell_type": "code",
   "execution_count": 7,
   "id": "85303a62-277b-4975-ba6b-5c706f155431",
   "metadata": {
    "tags": []
   },
   "outputs": [
    {
     "name": "stdout",
     "output_type": "stream",
     "text": [
      "User 5411 Top-10 Predictions (Movie IDs): [259, 669, 29, 104, 611, 0, 629, 128, 1092, 831]\n",
      "User 5411 Predicted Scores: [5.096291542053223, 5.067940711975098, 4.992334365844727, 4.977322578430176, 4.973267078399658, 4.943129539489746, 4.868364334106445, 4.865688323974609, 4.83309268951416, 4.821764945983887]\n",
      "CF Test RMSE: 0.9724, Recall@10: 0.0244, NDCG@10: 0.0114\n"
     ]
    }
   ],
   "source": [
    "# Get all movie IDs for ranking in CF\n",
    "all_movie_ids = list(movie_ids.values())\n",
    "\n",
    "# Run CF evaluation\n",
    "rmse_cf, recall_cf, ndcg_cf = evaluate_cf(cf_model, test_loader, all_movie_ids, k=10)\n"
   ]
  },
  {
   "cell_type": "code",
   "execution_count": null,
   "id": "78442c66-0098-4b8b-838e-7cfb75ec878f",
   "metadata": {},
   "outputs": [],
   "source": []
  }
 ],
 "metadata": {
  "kernelspec": {
   "display_name": "Python 3 (ipykernel)",
   "language": "python",
   "name": "python3"
  },
  "language_info": {
   "codemirror_mode": {
    "name": "ipython",
    "version": 3
   },
   "file_extension": ".py",
   "mimetype": "text/x-python",
   "name": "python",
   "nbconvert_exporter": "python",
   "pygments_lexer": "ipython3",
   "version": "3.11.9"
  }
 },
 "nbformat": 4,
 "nbformat_minor": 5
}
