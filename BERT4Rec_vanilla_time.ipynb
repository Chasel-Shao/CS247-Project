{
  "cells": [
    {
      "cell_type": "markdown",
      "id": "8894cf9b-675f-4889-b850-4fc3bedd3373",
      "metadata": {
        "tags": [],
        "id": "8894cf9b-675f-4889-b850-4fc3bedd3373"
      },
      "source": [
        "# BERT4Rec-based recommendation system"
      ]
    },
    {
      "cell_type": "code",
      "execution_count": 1,
      "id": "b3df273d-8360-4a05-9e81-ac0f39e882dc",
      "metadata": {
        "tags": [],
        "colab": {
          "base_uri": "https://localhost:8080/"
        },
        "id": "b3df273d-8360-4a05-9e81-ac0f39e882dc",
        "outputId": "7d210854-4e46-4573-9850-b514c8b46772"
      },
      "outputs": [
        {
          "output_type": "stream",
          "name": "stdout",
          "text": [
            "Using device: cuda\n"
          ]
        }
      ],
      "source": [
        "import torch\n",
        "import torch.nn as nn\n",
        "import torch.optim as optim\n",
        "from transformers import BertModel, BertConfig\n",
        "from torch.utils.data import Dataset, DataLoader\n",
        "import pandas as pd\n",
        "import numpy as np\n",
        "from sklearn.model_selection import train_test_split\n",
        "\n",
        "# Ensure compatibility with Jupyter Notebook\n",
        "%matplotlib inline\n",
        "\n",
        "# Check if CUDA is available\n",
        "device = torch.device(\"cuda\" if torch.cuda.is_available() else \"cpu\")\n",
        "print(f\"Using device: {device}\")"
      ]
    },
    {
      "cell_type": "code",
      "source": [
        "import os\n",
        "from google.colab import drive\n",
        "drive.mount('/content/drive')\n",
        "folder_path='/content/drive/MyDrive/CS247/Final Project'\n",
        "os.chdir(folder_path)\n",
        "# Function to load the MovieLens dataset\n"
      ],
      "metadata": {
        "colab": {
          "base_uri": "https://localhost:8080/"
        },
        "id": "mACGfzP_wNPD",
        "outputId": "afe9a358-630d-438e-bbb0-e05c1de39724"
      },
      "id": "mACGfzP_wNPD",
      "execution_count": 2,
      "outputs": [
        {
          "output_type": "stream",
          "name": "stdout",
          "text": [
            "Mounted at /content/drive\n"
          ]
        }
      ]
    },
    {
      "cell_type": "code",
      "execution_count": 3,
      "id": "28d2aeec-b5e2-4a87-9234-e8d8ba3a3e40",
      "metadata": {
        "tags": [],
        "colab": {
          "base_uri": "https://localhost:8080/"
        },
        "id": "28d2aeec-b5e2-4a87-9234-e8d8ba3a3e40",
        "outputId": "32703eee-5044-4e58-9276-fd5f15ab8554"
      },
      "outputs": [
        {
          "output_type": "stream",
          "name": "stdout",
          "text": [
            "Loaded 6040 users' movie interaction sequences with timestamps\n",
            "User 1:\n",
            "  Movies: [3186, 1270, 1721, 1022, 2340]\n",
            "  Timestamps: [0, 1, 1, 1, 4]\n",
            "--------------------------------------------------\n",
            "User 2:\n",
            "  Movies: [1198, 1210, 1217, 2717, 1293]\n",
            "  Timestamps: [0, 1, 1, 3, 6]\n",
            "--------------------------------------------------\n",
            "User 3:\n",
            "  Movies: [593, 2858, 3534, 1968, 1431]\n",
            "  Timestamps: [0, 1, 2, 2, 3]\n",
            "--------------------------------------------------\n",
            "Reduced Timestamp Bins: 4462390\n"
          ]
        }
      ],
      "source": [
        "# Function to load the MovieLens dataset\n",
        "def load_data(filepath=\"ml-1m/ratings.dat\"):\n",
        "    df = pd.read_csv(filepath, sep=\"::\", engine=\"python\",\n",
        "                     names=[\"userId\", \"movieId\", \"rating\", \"timestamp\"])\n",
        "    df = df.sort_values(by=[\"userId\", \"timestamp\"])\n",
        "    df['timestamp_bucket'] = df.groupby('userId')['timestamp'].transform(lambda x: x - x.min()) # size -> 89247793\n",
        "\n",
        "    # # Reduce precision by bucketing timestamps (divide by 100 )-> save memory\n",
        "    df['timestamp_bucket'] = df['timestamp_bucket'] // 20 # size -> 8924780\n",
        "\n",
        "    # # Apply logarithmic bucketing (base 2) -> save memory\n",
        "    # df['timestamp_bucket'] = np.log1p(df['timestamp_bucket']).astype(int)\n",
        "\n",
        "    # Add time stamp to movie dict\n",
        "    # user_movie_dict = df.groupby(\"userId\")[\"movieId\"].apply(list).to_dict()\n",
        "    user_movie_dict = df.groupby(\"userId\").agg({\n",
        "        \"movieId\": list,\n",
        "        \"timestamp_bucket\": list\n",
        "    }).to_dict(orient=\"index\")\n",
        "\n",
        "    return user_movie_dict\n",
        "\n",
        "# Load dataset\n",
        "user_movie_dict = load_data()\n",
        "print(f\"Loaded {len(user_movie_dict)} users' movie interaction sequences with timestamps\")\n",
        "\n",
        "# Print a sample of user-movie interactions for debugging\n",
        "for user, data in list(user_movie_dict.items())[:3]:\n",
        "    print(f\"User {user}:\")\n",
        "    print(f\"  Movies: {data['movieId'][:5]}\")\n",
        "    print(f\"  Timestamps: {data['timestamp_bucket'][:5]}\")\n",
        "    print(\"-\" * 50)\n",
        "timestamp_bins = max(max(data['timestamp_bucket']) for data in user_movie_dict.values()) + 1\n",
        "print(f\"Reduced Timestamp Bins: {timestamp_bins}\")"
      ]
    },
    {
      "cell_type": "code",
      "execution_count": 4,
      "id": "a4ec826b-5b5d-4be2-a707-5566240946e0",
      "metadata": {
        "tags": [],
        "colab": {
          "base_uri": "https://localhost:8080/"
        },
        "id": "a4ec826b-5b5d-4be2-a707-5566240946e0",
        "outputId": "0e2b0b2a-bded-4aae-f1ec-205f933e8c3f"
      },
      "outputs": [
        {
          "output_type": "stream",
          "name": "stdout",
          "text": [
            "Train users: 6040, Test users: 6040\n"
          ]
        }
      ],
      "source": [
        "# Function to split user interactions into train and test sets -> split the movies\n",
        "def split_train_test(user_movie_dict, test_ratio=0.2, min_interactions=5):\n",
        "    train_dict, test_dict = {}, {}\n",
        "    for user, data in user_movie_dict.items():\n",
        "        movies = data['movieId']\n",
        "        timestamps = data['timestamp_bucket']\n",
        "        if len(movies) >= min_interactions:\n",
        "            split_idx = int(len(movies) * (1 - test_ratio))\n",
        "            train_dict[user] = {\n",
        "                \"movieId\": movies[:split_idx],\n",
        "                \"timestamp_bucket\": timestamps[:split_idx]\n",
        "            }\n",
        "            test_dict[user] = {\n",
        "                \"movieId\": movies[split_idx:],\n",
        "                \"timestamp_bucket\": timestamps[split_idx:]\n",
        "            }\n",
        "        else:\n",
        "            train_dict[user] = {\n",
        "                \"movieId\": movies,\n",
        "                \"timestamp_bucket\": timestamps\n",
        "            }\n",
        "    return train_dict, test_dict\n",
        "\n",
        "\n",
        "# Apply train-test split with filtering\n",
        "train_dict, test_dict = split_train_test(user_movie_dict, test_ratio=0.2, min_interactions=5)\n",
        "\n",
        "# Print updated user counts\n",
        "print(f\"Train users: {len(train_dict)}, Test users: {len(test_dict)}\")"
      ]
    },
    {
      "cell_type": "code",
      "execution_count": 5,
      "id": "54c3ea7d-c557-48e2-bf1e-0eb321619cc2",
      "metadata": {
        "tags": [],
        "colab": {
          "base_uri": "https://localhost:8080/"
        },
        "id": "54c3ea7d-c557-48e2-bf1e-0eb321619cc2",
        "outputId": "763bf935-c615-49d2-b95f-10a216debb3c"
      },
      "outputs": [
        {
          "output_type": "stream",
          "name": "stdout",
          "text": [
            "Train Dataset: 6040, Test Dataset: 6040\n"
          ]
        }
      ],
      "source": [
        "# Define Dataset for Training\n",
        "class MovieDataset(Dataset):\n",
        "    def __init__(self, user_movie_dict, max_len=30):\n",
        "        self.users = list(user_movie_dict.keys())\n",
        "        self.movie_sequences = [user_movie_dict[user]['movieId'] for user in self.users]\n",
        "        self.timestamp_sequences = [user_movie_dict[user]['timestamp_bucket'] for user in self.users]\n",
        "        self.max_len = max_len\n",
        "\n",
        "    def __len__(self):\n",
        "        return len(self.users)\n",
        "\n",
        "    def __getitem__(self, idx):\n",
        "            movie_seq = self.movie_sequences[idx]\n",
        "            timestamp_seq = self.timestamp_sequences[idx]\n",
        "            # Truncate and pad sequences\n",
        "            input_movies = movie_seq[:self.max_len] + [0] * (self.max_len - len(movie_seq))\n",
        "            input_timestamps = timestamp_seq[:self.max_len] + [0] * (self.max_len - len(timestamp_seq))\n",
        "            # Next-movie prediction target\n",
        "            target_movies = input_movies[1:] + [0]\n",
        "            # Attention mask (1 for real tokens, 0 for padding)\n",
        "            attention_mask = [1 if movie != 0 else 0 for movie in input_movies]\n",
        "            return (\n",
        "                torch.tensor(input_movies, dtype=torch.long),\n",
        "                torch.tensor(input_timestamps, dtype=torch.long),\n",
        "                torch.tensor(target_movies, dtype=torch.long),\n",
        "                torch.tensor(attention_mask, dtype=torch.long)\n",
        "          )\n",
        "# Create Train Dataset & DataLoader\n",
        "train_dataset = MovieDataset(train_dict, max_len=30)\n",
        "train_dataloader = DataLoader(train_dataset, batch_size=32, shuffle=True)\n",
        "\n",
        "# Create Test Dataset & DataLoader\n",
        "test_dataset = MovieDataset(test_dict, max_len=30)\n",
        "test_dataloader = DataLoader(test_dataset, batch_size=32, shuffle=False)\n",
        "\n",
        "print(f\"Train Dataset: {len(train_dataset)}, Test Dataset: {len(test_dataset)}\")"
      ]
    },
    {
      "cell_type": "code",
      "execution_count": 7,
      "id": "a3917c9d-f731-4bf0-9a85-98c36f1ef916",
      "metadata": {
        "tags": [],
        "id": "a3917c9d-f731-4bf0-9a85-98c36f1ef916",
        "colab": {
          "base_uri": "https://localhost:8080/"
        },
        "outputId": "961439a8-c87e-4b23-9ca6-73f503ef9bc5"
      },
      "outputs": [
        {
          "output_type": "stream",
          "name": "stdout",
          "text": [
            "Initialized BERT4Rec model with vocab size 3953 and timestamp bins 4462390\n"
          ]
        }
      ],
      "source": [
        "# Transformer-based BERT4Rec Model\n",
        "class BERT4Rec(nn.Module):\n",
        "    def __init__(self, vocab_size,timestamp_bins, hidden_size=256, num_layers=4, num_heads=4, max_len=30, dropout_rate=0.2):\n",
        "        super(BERT4Rec, self).__init__()\n",
        "        self.movie_embedding = nn.Embedding(vocab_size, hidden_size)\n",
        "        self.timestamp_embedding = nn.Embedding(timestamp_bins, hidden_size)\n",
        "        # Positional Embedding\n",
        "        self.position_embedding = nn.Embedding(max_len, hidden_size)\n",
        "        config = BertConfig(\n",
        "            vocab_size=vocab_size,\n",
        "            hidden_size=hidden_size,\n",
        "            num_attention_heads=num_heads,\n",
        "            num_hidden_layers=num_layers,\n",
        "            max_position_embeddings=max_len,\n",
        "        )\n",
        "        self.layernorm = nn.LayerNorm(hidden_size)\n",
        "        self.dropout = nn.Dropout(dropout_rate)\n",
        "        self.bert = BertModel(config)\n",
        "        self.output_layer = nn.Linear(hidden_size, vocab_size)  # Output layer to predict next movie ID\n",
        "\n",
        "    def forward(self, input_ids, timestamps, attention_mask):\n",
        "         # Causal Mask: Ensure each position can only attend to previous positions\n",
        "        batch_size, seq_len = input_ids.shape\n",
        "        causal_mask = torch.triu(torch.ones(seq_len, seq_len, dtype=torch.bool, device=input_ids.device), diagonal=1)\n",
        "\n",
        "        movie_emb = self.movie_embedding(input_ids)\n",
        "        timestamp_emb = self.timestamp_embedding(timestamps)\n",
        "        position_ids = torch.arange(seq_len, dtype=torch.long, device=input_ids.device)\n",
        "        position_emb = self.position_embedding(position_ids).unsqueeze(0).expand(batch_size, -1, -1)\n",
        "\n",
        "        # Combine embeddings (Sum for simplicity)\n",
        "        combined_emb = movie_emb + timestamp_emb + position_emb\n",
        "\n",
        "        output = self.bert(\n",
        "            inputs_embeds=combined_emb,\n",
        "            attention_mask=attention_mask,\n",
        "            encoder_attention_mask=~causal_mask  # PyTorch requires masked positions to be False\n",
        "        ).last_hidden_state\n",
        "        output = self.layernorm(output)\n",
        "        output = self.dropout(output)\n",
        "        return self.output_layer(output)\n",
        "\n",
        "# Initialize Model\n",
        "# vocab_size = max(max(seq) for seq in user_movie_dict.values()) + 1  # Get max movie ID as vocab size\n",
        "vocab_size = max(max(data['movieId']) for data in user_movie_dict.values()) + 1\n",
        "timestamp_bins = max(max(data['timestamp_bucket']) for data in user_movie_dict.values()) + 1\n",
        "\n",
        "model = BERT4Rec(\n",
        "    vocab_size=vocab_size,\n",
        "    timestamp_bins=timestamp_bins,\n",
        "    hidden_size=256,\n",
        "    num_layers=4,\n",
        "    num_heads=4,\n",
        "    max_len=30\n",
        ").to(device)\n",
        "print(f\"Initialized BERT4Rec model with vocab size {vocab_size} and timestamp bins {timestamp_bins}\")"
      ]
    },
    {
      "cell_type": "code",
      "execution_count": 12,
      "id": "7d942151-25fd-4879-a9a6-89dbd2d9c76f",
      "metadata": {
        "colab": {
          "base_uri": "https://localhost:8080/"
        },
        "id": "7d942151-25fd-4879-a9a6-89dbd2d9c76f",
        "outputId": "2019f98c-59bb-4b7c-b0f2-e2fe70c86d68"
      },
      "outputs": [
        {
          "output_type": "stream",
          "name": "stdout",
          "text": [
            "Epoch 1, Train Loss: 0.2753\n",
            "Epoch 2, Train Loss: 0.2229\n",
            "Epoch 3, Train Loss: 0.1839\n",
            "Epoch 4, Train Loss: 0.1522\n",
            "Epoch 5, Train Loss: 0.1278\n",
            "Epoch 6, Train Loss: 0.1075\n",
            "Epoch 7, Train Loss: 0.0906\n",
            "Epoch 8, Train Loss: 0.0778\n",
            "Epoch 9, Train Loss: 0.0669\n",
            "Epoch 10, Train Loss: 0.0582\n",
            "Epoch 11, Train Loss: 0.0503\n",
            "Epoch 12, Train Loss: 0.0434\n",
            "Epoch 13, Train Loss: 0.0380\n",
            "Epoch 14, Train Loss: 0.0336\n",
            "Epoch 15, Train Loss: 0.0289\n",
            "Epoch 16, Train Loss: 0.0258\n",
            "Epoch 17, Train Loss: 0.0220\n",
            "Epoch 18, Train Loss: 0.0203\n",
            "Epoch 19, Train Loss: 0.0182\n",
            "Epoch 20, Train Loss: 0.0161\n",
            "Epoch 21, Train Loss: 0.0147\n",
            "Epoch 22, Train Loss: 0.0132\n",
            "Epoch 23, Train Loss: 0.0121\n",
            "Epoch 24, Train Loss: 0.0109\n",
            "Epoch 25, Train Loss: 0.0107\n",
            "Epoch 26, Train Loss: 0.0094\n",
            "Epoch 27, Train Loss: 0.0088\n",
            "Epoch 28, Train Loss: 0.0080\n",
            "Epoch 29, Train Loss: 0.0073\n",
            "Epoch 30, Train Loss: 0.0068\n",
            "Epoch 31, Train Loss: 0.0060\n",
            "Epoch 32, Train Loss: 0.0060\n",
            "Epoch 33, Train Loss: 0.0064\n",
            "Epoch 34, Train Loss: 0.0051\n",
            "Epoch 35, Train Loss: 0.0056\n",
            "Epoch 36, Train Loss: 0.0059\n",
            "Epoch 37, Train Loss: 0.0050\n",
            "Epoch 38, Train Loss: 0.0049\n",
            "Epoch 39, Train Loss: 0.0041\n",
            "Epoch 40, Train Loss: 0.0043\n",
            "Epoch 41, Train Loss: 0.0042\n",
            "Epoch 42, Train Loss: 0.0042\n",
            "Epoch 43, Train Loss: 0.0041\n",
            "Epoch 44, Train Loss: 0.0041\n",
            "Epoch 45, Train Loss: 0.0040\n",
            "Epoch 46, Train Loss: 0.0041\n",
            "Epoch 47, Train Loss: 0.0042\n",
            "Epoch 48, Train Loss: 0.0036\n",
            "Epoch 49, Train Loss: 0.0037\n",
            "Epoch 50, Train Loss: 0.0039\n",
            "Epoch 51, Train Loss: 0.0033\n",
            "Epoch 52, Train Loss: 0.0029\n",
            "Epoch 53, Train Loss: 0.0031\n",
            "Epoch 54, Train Loss: 0.0025\n",
            "Epoch 55, Train Loss: 0.0029\n",
            "Epoch 56, Train Loss: 0.0025\n",
            "Epoch 57, Train Loss: 0.0023\n",
            "Epoch 58, Train Loss: 0.0023\n",
            "Epoch 59, Train Loss: 0.0024\n",
            "Epoch 60, Train Loss: 0.0021\n",
            "Epoch 61, Train Loss: 0.0025\n",
            "Epoch 62, Train Loss: 0.0022\n",
            "Epoch 63, Train Loss: 0.0028\n",
            "Epoch 64, Train Loss: 0.0023\n",
            "Epoch 65, Train Loss: 0.0026\n",
            "Epoch 66, Train Loss: 0.0029\n",
            "Epoch 67, Train Loss: 0.0031\n",
            "Epoch 68, Train Loss: 0.0024\n",
            "Epoch 69, Train Loss: 0.0024\n",
            "Epoch 70, Train Loss: 0.0026\n",
            "Epoch 71, Train Loss: 0.0025\n",
            "Epoch 72, Train Loss: 0.0022\n",
            "Epoch 73, Train Loss: 0.0027\n",
            "Epoch 74, Train Loss: 0.0023\n",
            "Epoch 75, Train Loss: 0.0022\n",
            "Epoch 76, Train Loss: 0.0022\n",
            "Epoch 77, Train Loss: 0.0022\n",
            "Epoch 78, Train Loss: 0.0022\n",
            "Epoch 79, Train Loss: 0.0025\n",
            "Epoch 80, Train Loss: 0.0020\n",
            "Epoch 81, Train Loss: 0.0023\n",
            "Epoch 82, Train Loss: 0.0018\n",
            "Epoch 83, Train Loss: 0.0020\n",
            "Epoch 84, Train Loss: 0.0022\n",
            "Epoch 85, Train Loss: 0.0017\n",
            "Epoch 86, Train Loss: 0.0023\n",
            "Epoch 87, Train Loss: 0.0018\n",
            "Epoch 88, Train Loss: 0.0017\n",
            "Epoch 89, Train Loss: 0.0017\n",
            "Epoch 90, Train Loss: 0.0018\n",
            "Epoch 91, Train Loss: 0.0016\n",
            "Epoch 92, Train Loss: 0.0019\n",
            "Epoch 93, Train Loss: 0.0022\n",
            "Epoch 94, Train Loss: 0.0014\n",
            "Epoch 95, Train Loss: 0.0016\n",
            "Epoch 96, Train Loss: 0.0017\n",
            "Epoch 97, Train Loss: 0.0015\n",
            "Epoch 98, Train Loss: 0.0020\n",
            "Epoch 99, Train Loss: 0.0029\n",
            "Epoch 100, Train Loss: 0.0024\n"
          ]
        }
      ],
      "source": [
        "loss_list = []\n",
        "# Define Training Function\n",
        "def train_model(model, dataloader, epochs=3, lr=0.0001):\n",
        "    optimizer = optim.Adam(model.parameters(), lr=lr)\n",
        "    # criterion = nn.CrossEntropyLoss()\n",
        "    criterion = nn.CrossEntropyLoss(ignore_index=0)\n",
        "    model.train()\n",
        "\n",
        "    for epoch in range(epochs):\n",
        "        total_loss = 0\n",
        "        for inputs, timestamps, targets, attention_mask in dataloader:\n",
        "            # Move data to the device\n",
        "            inputs = inputs.to(device)\n",
        "            timestamps = timestamps.to(device)\n",
        "            targets = targets.to(device)\n",
        "            attention_mask = attention_mask.to(device)\n",
        "\n",
        "            optimizer.zero_grad()\n",
        "            outputs = model(inputs, timestamps, attention_mask)\n",
        "            loss = criterion(outputs.view(-1, outputs.shape[-1]), targets.view(-1))\n",
        "            loss.backward()\n",
        "            optimizer.step()\n",
        "\n",
        "            total_loss += loss.item()\n",
        "\n",
        "        avg_loss = total_loss / len(dataloader)\n",
        "        print(f\"Epoch {epoch + 1}, Train Loss: {avg_loss:.4f}\")\n",
        "        loss_list.append(avg_loss)\n",
        "\n",
        "# Train on Train DataLoader\n",
        "train_model(model, train_dataloader, epochs=100, lr= 0.0001)"
      ]
    },
    {
      "cell_type": "code",
      "execution_count": 13,
      "id": "6f11f335-c400-48d4-bb06-421207cfd204",
      "metadata": {
        "tags": [],
        "id": "6f11f335-c400-48d4-bb06-421207cfd204"
      },
      "outputs": [],
      "source": [
        "def evaluate_model(model, dataloader, k=10):\n",
        "    model.eval()\n",
        "    total_loss = 0\n",
        "    total_recall = 0\n",
        "    total_ndcg = 0\n",
        "    criterion = nn.CrossEntropyLoss()\n",
        "\n",
        "    with torch.no_grad():\n",
        "        for inputs, timestamps, targets, attention_mask in dataloader:\n",
        "            inputs, timestamps, targets, attention_mask = inputs.to(device), timestamps.to(device), targets.to(device), attention_mask.to(device)\n",
        "\n",
        "            outputs = model(inputs, timestamps, attention_mask)\n",
        "            loss = criterion(outputs.view(-1, outputs.shape[-1]), targets.view(-1))\n",
        "            total_loss += loss.item()\n",
        "\n",
        "            _, top_k_predictions = torch.topk(outputs, k, dim=-1)\n",
        "            recall = recall_at_k(top_k_predictions, targets, k)\n",
        "            ndcg = ndcg_at_k(top_k_predictions, targets, k)\n",
        "\n",
        "            total_recall += recall\n",
        "            total_ndcg += ndcg\n",
        "\n",
        "    avg_loss = total_loss / len(dataloader)\n",
        "    avg_recall = total_recall / len(dataloader)\n",
        "    avg_ndcg = total_ndcg / len(dataloader)\n",
        "\n",
        "    print(f\"Test Loss: {avg_loss:.4f}, Recall@{k}: {avg_recall:.4f}, NDCG@{k}: {avg_ndcg:.4f}\")\n",
        "    return avg_loss, avg_recall, avg_ndcg\n",
        "\n",
        "# Compute Recall@K\n",
        "def recall_at_k(top_k_predictions, targets, k):\n",
        "    hits = (top_k_predictions == targets.unsqueeze(-1)).float()  # Check if target is in top K\n",
        "    recall = hits.sum(dim=-1).mean().item()  # Compute recall\n",
        "    return recall\n",
        "\n",
        "# Compute NDCG@K\n",
        "def ndcg_at_k(top_k_predictions, targets, k):\n",
        "    hits = (top_k_predictions == targets.unsqueeze(-1)).float()\n",
        "    log_positions = 1 / torch.log2(torch.arange(2, k + 2, device=targets.device).float())  # Discount factor\n",
        "    dcg = (hits * log_positions).sum(dim=-1).mean().item()\n",
        "    return dcg"
      ]
    },
    {
      "cell_type": "code",
      "execution_count": 14,
      "id": "0c83a1d4-b53a-4bd0-84b6-60d6728b88bc",
      "metadata": {
        "tags": [],
        "colab": {
          "base_uri": "https://localhost:8080/"
        },
        "id": "0c83a1d4-b53a-4bd0-84b6-60d6728b88bc",
        "outputId": "28cc56fd-5248-4f99-b6fa-f3e0b5a5aaab"
      },
      "outputs": [
        {
          "output_type": "stream",
          "name": "stdout",
          "text": [
            "Test Loss: 9.1500, Recall@10: 0.6024, NDCG@10: 0.6001\n"
          ]
        }
      ],
      "source": [
        "# Evaluate on Test DataLoader\n",
        "test_loss, recall_k, ndcg_k = evaluate_model(model, test_dataloader, k=10)"
      ]
    },
    {
      "cell_type": "code",
      "source": [
        "loss_history_baseline = [\n",
        "    1.0829, 0.8475, 0.8103, 0.7828, 0.7473, 0.6993, 0.6543, 0.6029, 0.5485, 0.4827,\n",
        "    0.4010, 0.3439, 0.3007, 0.2667, 0.2386, 0.2134, 0.1932, 0.1756, 0.1609, 0.1475,\n",
        "    0.1365, 0.1262, 0.1167, 0.1083, 0.1014, 0.0954, 0.0891, 0.0839, 0.0794, 0.0754,\n",
        "    0.0715, 0.0682, 0.0651, 0.0623, 0.0594, 0.0571, 0.0551, 0.0528, 0.0515, 0.0499,\n",
        "    0.0482, 0.0472, 0.0458, 0.0445, 0.0435, 0.0422, 0.0416, 0.0408, 0.0399, 0.0394,\n",
        "    0.0387, 0.0382, 0.0374, 0.0370, 0.0364, 0.0362, 0.0358, 0.0350, 0.0348, 0.0344,\n",
        "    0.0345, 0.0338, 0.0335, 0.0333, 0.0331, 0.0329, 0.0325, 0.0323, 0.0319, 0.0321,\n",
        "    0.0319, 0.0316, 0.0317, 0.0316, 0.0314, 0.0312, 0.0310, 0.0309, 0.0307, 0.0306,\n",
        "    0.0305, 0.0307, 0.0304, 0.0303, 0.0302, 0.0301, 0.0300, 0.0300, 0.0299, 0.0299,\n",
        "    0.0298, 0.0299, 0.0299, 0.0295, 0.0296, 0.0297, 0.0293, 0.0293, 0.0293, 0.0291\n",
        "]\n",
        "loss_history_time=loss_list\n",
        "losses_dict = {\n",
        "    \"BERT4Rec\": loss_history_baseline,\n",
        "    \"BERT4Rec_time\": loss_history_time,\n",
        "}\n",
        "\n"
      ],
      "metadata": {
        "id": "xJWTqUgMNTBD"
      },
      "id": "xJWTqUgMNTBD",
      "execution_count": 15,
      "outputs": []
    },
    {
      "cell_type": "code",
      "source": [
        "import matplotlib.pyplot as plt\n",
        "\n",
        "def plot_loss_curves(losses_dict):\n",
        "    \"\"\"\n",
        "    Plots loss curves for multiple models.\n",
        "\n",
        "    Args:\n",
        "        losses_dict (dict): Dictionary containing model names as keys and lists of loss values as values.\n",
        "    \"\"\"\n",
        "    plt.figure(figsize=(10, 6))\n",
        "\n",
        "    for model_name, losses in losses_dict.items():\n",
        "        plt.plot(range(1, len(losses) + 1), losses, label=model_name)\n",
        "\n",
        "    plt.xlabel(\"Epochs\")\n",
        "    plt.ylabel(\"Loss\")\n",
        "    plt.title(\"Training Loss Curves\")\n",
        "    plt.legend()\n",
        "    plt.grid(True)\n",
        "    plt.show()\n",
        "plot_loss_curves(losses_dict)"
      ],
      "metadata": {
        "colab": {
          "base_uri": "https://localhost:8080/",
          "height": 423
        },
        "id": "vhHj-MGlOgDK",
        "outputId": "01af865d-86aa-4bf2-aa19-0952bcf65a35"
      },
      "id": "vhHj-MGlOgDK",
      "execution_count": 17,
      "outputs": [
        {
          "output_type": "display_data",
          "data": {
            "text/plain": [
              "<Figure size 1000x600 with 1 Axes>"
            ],
            "image/png": "[encoded data removed]"
          },
          "metadata": {}
        }
      ]
    }
  ],
  "metadata": {
    "kernelspec": {
      "display_name": "Python 3",
      "name": "python3"
    },
    "language_info": {
      "codemirror_mode": {
        "name": "ipython",
        "version": 3
      },
      "file_extension": ".py",
      "mimetype": "text/x-python",
      "name": "python",
      "nbconvert_exporter": "python",
      "pygments_lexer": "ipython3",
      "version": "3.11.9"
    },
    "colab": {
      "provenance": [],
      "gpuType": "A100",
      "machine_shape": "hm"
    },
    "accelerator": "GPU"
  },
  "nbformat": 4,
  "nbformat_minor": 5
}